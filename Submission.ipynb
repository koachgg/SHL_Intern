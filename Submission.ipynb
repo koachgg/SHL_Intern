{
  "nbformat": 4,
  "nbformat_minor": 0,
  "metadata": {
    "colab": {
      "provenance": [],
      "collapsed_sections": [
        "TSqmCyNWIpU-",
        "6t2x37xTI41D",
        "_KlL8l6LJAYI",
        "94QmDbYtJFs9",
        "KF-Lbn8qJMPX",
        "bdSFXTnRJU5l",
        "LM8c1zUSJbyK",
        "7qrznaGRJiIv"
      ],
      "gpuType": "T4"
    },
    "kernelspec": {
      "name": "python3",
      "display_name": "Python 3"
    },
    "language_info": {
      "name": "python"
    },
    "accelerator": "GPU",
    "widgets": {
      "application/vnd.jupyter.widget-state+json": {
        "edda7c6485a845a9ac48d3f7b35433d6": {
          "model_module": "@jupyter-widgets/controls",
          "model_name": "HBoxModel",
          "model_module_version": "1.5.0",
          "state": {
            "_dom_classes": [],
            "_model_module": "@jupyter-widgets/controls",
            "_model_module_version": "1.5.0",
            "_model_name": "HBoxModel",
            "_view_count": null,
            "_view_module": "@jupyter-widgets/controls",
            "_view_module_version": "1.5.0",
            "_view_name": "HBoxView",
            "box_style": "",
            "children": [
              "IPY_MODEL_4d284e72f19d4469b3a10ccd106afa59",
              "IPY_MODEL_d2a1f5d5402c4b1bb7f2691316b8e87b",
              "IPY_MODEL_0ade2cf9cd814a79b0f850be9f04187e"
            ],
            "layout": "IPY_MODEL_ed40b614b38449c5bc8a7d54d319bcb1"
          }
        },
        "4d284e72f19d4469b3a10ccd106afa59": {
          "model_module": "@jupyter-widgets/controls",
          "model_name": "HTMLModel",
          "model_module_version": "1.5.0",
          "state": {
            "_dom_classes": [],
            "_model_module": "@jupyter-widgets/controls",
            "_model_module_version": "1.5.0",
            "_model_name": "HTMLModel",
            "_view_count": null,
            "_view_module": "@jupyter-widgets/controls",
            "_view_module_version": "1.5.0",
            "_view_name": "HTMLView",
            "description": "",
            "description_tooltip": null,
            "layout": "IPY_MODEL_695e88fad81d4a108cc3e626bce6282b",
            "placeholder": "​",
            "style": "IPY_MODEL_3726263495f445a5be58a258a4fd5579",
            "value": "preprocessor_config.json: 100%"
          }
        },
        "d2a1f5d5402c4b1bb7f2691316b8e87b": {
          "model_module": "@jupyter-widgets/controls",
          "model_name": "FloatProgressModel",
          "model_module_version": "1.5.0",
          "state": {
            "_dom_classes": [],
            "_model_module": "@jupyter-widgets/controls",
            "_model_module_version": "1.5.0",
            "_model_name": "FloatProgressModel",
            "_view_count": null,
            "_view_module": "@jupyter-widgets/controls",
            "_view_module_version": "1.5.0",
            "_view_name": "ProgressView",
            "bar_style": "success",
            "description": "",
            "description_tooltip": null,
            "layout": "IPY_MODEL_b8f76074bf034a7a8ec71aed4b695165",
            "max": 215,
            "min": 0,
            "orientation": "horizontal",
            "style": "IPY_MODEL_e4bd93d1ff6443089b176e851f1e2063",
            "value": 215
          }
        },
        "0ade2cf9cd814a79b0f850be9f04187e": {
          "model_module": "@jupyter-widgets/controls",
          "model_name": "HTMLModel",
          "model_module_version": "1.5.0",
          "state": {
            "_dom_classes": [],
            "_model_module": "@jupyter-widgets/controls",
            "_model_module_version": "1.5.0",
            "_model_name": "HTMLModel",
            "_view_count": null,
            "_view_module": "@jupyter-widgets/controls",
            "_view_module_version": "1.5.0",
            "_view_name": "HTMLView",
            "description": "",
            "description_tooltip": null,
            "layout": "IPY_MODEL_e71f9bd8be9e4f8da5e8a7a602e11c94",
            "placeholder": "​",
            "style": "IPY_MODEL_86c6116b61a645deaa11bfaab8594d4e",
            "value": " 215/215 [00:00&lt;00:00, 21.7kB/s]"
          }
        },
        "ed40b614b38449c5bc8a7d54d319bcb1": {
          "model_module": "@jupyter-widgets/base",
          "model_name": "LayoutModel",
          "model_module_version": "1.2.0",
          "state": {
            "_model_module": "@jupyter-widgets/base",
            "_model_module_version": "1.2.0",
            "_model_name": "LayoutModel",
            "_view_count": null,
            "_view_module": "@jupyter-widgets/base",
            "_view_module_version": "1.2.0",
            "_view_name": "LayoutView",
            "align_content": null,
            "align_items": null,
            "align_self": null,
            "border": null,
            "bottom": null,
            "display": null,
            "flex": null,
            "flex_flow": null,
            "grid_area": null,
            "grid_auto_columns": null,
            "grid_auto_flow": null,
            "grid_auto_rows": null,
            "grid_column": null,
            "grid_gap": null,
            "grid_row": null,
            "grid_template_areas": null,
            "grid_template_columns": null,
            "grid_template_rows": null,
            "height": null,
            "justify_content": null,
            "justify_items": null,
            "left": null,
            "margin": null,
            "max_height": null,
            "max_width": null,
            "min_height": null,
            "min_width": null,
            "object_fit": null,
            "object_position": null,
            "order": null,
            "overflow": null,
            "overflow_x": null,
            "overflow_y": null,
            "padding": null,
            "right": null,
            "top": null,
            "visibility": null,
            "width": null
          }
        },
        "695e88fad81d4a108cc3e626bce6282b": {
          "model_module": "@jupyter-widgets/base",
          "model_name": "LayoutModel",
          "model_module_version": "1.2.0",
          "state": {
            "_model_module": "@jupyter-widgets/base",
            "_model_module_version": "1.2.0",
            "_model_name": "LayoutModel",
            "_view_count": null,
            "_view_module": "@jupyter-widgets/base",
            "_view_module_version": "1.2.0",
            "_view_name": "LayoutView",
            "align_content": null,
            "align_items": null,
            "align_self": null,
            "border": null,
            "bottom": null,
            "display": null,
            "flex": null,
            "flex_flow": null,
            "grid_area": null,
            "grid_auto_columns": null,
            "grid_auto_flow": null,
            "grid_auto_rows": null,
            "grid_column": null,
            "grid_gap": null,
            "grid_row": null,
            "grid_template_areas": null,
            "grid_template_columns": null,
            "grid_template_rows": null,
            "height": null,
            "justify_content": null,
            "justify_items": null,
            "left": null,
            "margin": null,
            "max_height": null,
            "max_width": null,
            "min_height": null,
            "min_width": null,
            "object_fit": null,
            "object_position": null,
            "order": null,
            "overflow": null,
            "overflow_x": null,
            "overflow_y": null,
            "padding": null,
            "right": null,
            "top": null,
            "visibility": null,
            "width": null
          }
        },
        "3726263495f445a5be58a258a4fd5579": {
          "model_module": "@jupyter-widgets/controls",
          "model_name": "DescriptionStyleModel",
          "model_module_version": "1.5.0",
          "state": {
            "_model_module": "@jupyter-widgets/controls",
            "_model_module_version": "1.5.0",
            "_model_name": "DescriptionStyleModel",
            "_view_count": null,
            "_view_module": "@jupyter-widgets/base",
            "_view_module_version": "1.2.0",
            "_view_name": "StyleView",
            "description_width": ""
          }
        },
        "b8f76074bf034a7a8ec71aed4b695165": {
          "model_module": "@jupyter-widgets/base",
          "model_name": "LayoutModel",
          "model_module_version": "1.2.0",
          "state": {
            "_model_module": "@jupyter-widgets/base",
            "_model_module_version": "1.2.0",
            "_model_name": "LayoutModel",
            "_view_count": null,
            "_view_module": "@jupyter-widgets/base",
            "_view_module_version": "1.2.0",
            "_view_name": "LayoutView",
            "align_content": null,
            "align_items": null,
            "align_self": null,
            "border": null,
            "bottom": null,
            "display": null,
            "flex": null,
            "flex_flow": null,
            "grid_area": null,
            "grid_auto_columns": null,
            "grid_auto_flow": null,
            "grid_auto_rows": null,
            "grid_column": null,
            "grid_gap": null,
            "grid_row": null,
            "grid_template_areas": null,
            "grid_template_columns": null,
            "grid_template_rows": null,
            "height": null,
            "justify_content": null,
            "justify_items": null,
            "left": null,
            "margin": null,
            "max_height": null,
            "max_width": null,
            "min_height": null,
            "min_width": null,
            "object_fit": null,
            "object_position": null,
            "order": null,
            "overflow": null,
            "overflow_x": null,
            "overflow_y": null,
            "padding": null,
            "right": null,
            "top": null,
            "visibility": null,
            "width": null
          }
        },
        "e4bd93d1ff6443089b176e851f1e2063": {
          "model_module": "@jupyter-widgets/controls",
          "model_name": "ProgressStyleModel",
          "model_module_version": "1.5.0",
          "state": {
            "_model_module": "@jupyter-widgets/controls",
            "_model_module_version": "1.5.0",
            "_model_name": "ProgressStyleModel",
            "_view_count": null,
            "_view_module": "@jupyter-widgets/base",
            "_view_module_version": "1.2.0",
            "_view_name": "StyleView",
            "bar_color": null,
            "description_width": ""
          }
        },
        "e71f9bd8be9e4f8da5e8a7a602e11c94": {
          "model_module": "@jupyter-widgets/base",
          "model_name": "LayoutModel",
          "model_module_version": "1.2.0",
          "state": {
            "_model_module": "@jupyter-widgets/base",
            "_model_module_version": "1.2.0",
            "_model_name": "LayoutModel",
            "_view_count": null,
            "_view_module": "@jupyter-widgets/base",
            "_view_module_version": "1.2.0",
            "_view_name": "LayoutView",
            "align_content": null,
            "align_items": null,
            "align_self": null,
            "border": null,
            "bottom": null,
            "display": null,
            "flex": null,
            "flex_flow": null,
            "grid_area": null,
            "grid_auto_columns": null,
            "grid_auto_flow": null,
            "grid_auto_rows": null,
            "grid_column": null,
            "grid_gap": null,
            "grid_row": null,
            "grid_template_areas": null,
            "grid_template_columns": null,
            "grid_template_rows": null,
            "height": null,
            "justify_content": null,
            "justify_items": null,
            "left": null,
            "margin": null,
            "max_height": null,
            "max_width": null,
            "min_height": null,
            "min_width": null,
            "object_fit": null,
            "object_position": null,
            "order": null,
            "overflow": null,
            "overflow_x": null,
            "overflow_y": null,
            "padding": null,
            "right": null,
            "top": null,
            "visibility": null,
            "width": null
          }
        },
        "86c6116b61a645deaa11bfaab8594d4e": {
          "model_module": "@jupyter-widgets/controls",
          "model_name": "DescriptionStyleModel",
          "model_module_version": "1.5.0",
          "state": {
            "_model_module": "@jupyter-widgets/controls",
            "_model_module_version": "1.5.0",
            "_model_name": "DescriptionStyleModel",
            "_view_count": null,
            "_view_module": "@jupyter-widgets/base",
            "_view_module_version": "1.2.0",
            "_view_name": "StyleView",
            "description_width": ""
          }
        },
        "57409135148a40a6b4a49eceb8a39747": {
          "model_module": "@jupyter-widgets/controls",
          "model_name": "HBoxModel",
          "model_module_version": "1.5.0",
          "state": {
            "_dom_classes": [],
            "_model_module": "@jupyter-widgets/controls",
            "_model_module_version": "1.5.0",
            "_model_name": "HBoxModel",
            "_view_count": null,
            "_view_module": "@jupyter-widgets/controls",
            "_view_module_version": "1.5.0",
            "_view_name": "HBoxView",
            "box_style": "",
            "children": [
              "IPY_MODEL_c371836573d84f6b9e026509a35e11f4",
              "IPY_MODEL_707a13866e604fe3aef1dd879965ee86",
              "IPY_MODEL_49a55b5a1191435ab7932ba170d31b64"
            ],
            "layout": "IPY_MODEL_9632bf843177415ea74714dce5971d9c"
          }
        },
        "c371836573d84f6b9e026509a35e11f4": {
          "model_module": "@jupyter-widgets/controls",
          "model_name": "HTMLModel",
          "model_module_version": "1.5.0",
          "state": {
            "_dom_classes": [],
            "_model_module": "@jupyter-widgets/controls",
            "_model_module_version": "1.5.0",
            "_model_name": "HTMLModel",
            "_view_count": null,
            "_view_module": "@jupyter-widgets/controls",
            "_view_module_version": "1.5.0",
            "_view_name": "HTMLView",
            "description": "",
            "description_tooltip": null,
            "layout": "IPY_MODEL_54e0b96fa4a747a3bf2152fa8f5f2e2e",
            "placeholder": "​",
            "style": "IPY_MODEL_802136144538438cbb2b806a4c37210c",
            "value": "config.json: 100%"
          }
        },
        "707a13866e604fe3aef1dd879965ee86": {
          "model_module": "@jupyter-widgets/controls",
          "model_name": "FloatProgressModel",
          "model_module_version": "1.5.0",
          "state": {
            "_dom_classes": [],
            "_model_module": "@jupyter-widgets/controls",
            "_model_module_version": "1.5.0",
            "_model_name": "FloatProgressModel",
            "_view_count": null,
            "_view_module": "@jupyter-widgets/controls",
            "_view_module_version": "1.5.0",
            "_view_name": "ProgressView",
            "bar_style": "success",
            "description": "",
            "description_tooltip": null,
            "layout": "IPY_MODEL_2ed5da9d69d441b7b3b131622f2a3855",
            "max": 2236,
            "min": 0,
            "orientation": "horizontal",
            "style": "IPY_MODEL_94369ebde9044f128c72b8feca3a4d14",
            "value": 2236
          }
        },
        "49a55b5a1191435ab7932ba170d31b64": {
          "model_module": "@jupyter-widgets/controls",
          "model_name": "HTMLModel",
          "model_module_version": "1.5.0",
          "state": {
            "_dom_classes": [],
            "_model_module": "@jupyter-widgets/controls",
            "_model_module_version": "1.5.0",
            "_model_name": "HTMLModel",
            "_view_count": null,
            "_view_module": "@jupyter-widgets/controls",
            "_view_module_version": "1.5.0",
            "_view_name": "HTMLView",
            "description": "",
            "description_tooltip": null,
            "layout": "IPY_MODEL_43622b70f0944937971854be17ab5083",
            "placeholder": "​",
            "style": "IPY_MODEL_1b82377ba8824c66a41c27d15c69b5c6",
            "value": " 2.24k/2.24k [00:00&lt;00:00, 246kB/s]"
          }
        },
        "9632bf843177415ea74714dce5971d9c": {
          "model_module": "@jupyter-widgets/base",
          "model_name": "LayoutModel",
          "model_module_version": "1.2.0",
          "state": {
            "_model_module": "@jupyter-widgets/base",
            "_model_module_version": "1.2.0",
            "_model_name": "LayoutModel",
            "_view_count": null,
            "_view_module": "@jupyter-widgets/base",
            "_view_module_version": "1.2.0",
            "_view_name": "LayoutView",
            "align_content": null,
            "align_items": null,
            "align_self": null,
            "border": null,
            "bottom": null,
            "display": null,
            "flex": null,
            "flex_flow": null,
            "grid_area": null,
            "grid_auto_columns": null,
            "grid_auto_flow": null,
            "grid_auto_rows": null,
            "grid_column": null,
            "grid_gap": null,
            "grid_row": null,
            "grid_template_areas": null,
            "grid_template_columns": null,
            "grid_template_rows": null,
            "height": null,
            "justify_content": null,
            "justify_items": null,
            "left": null,
            "margin": null,
            "max_height": null,
            "max_width": null,
            "min_height": null,
            "min_width": null,
            "object_fit": null,
            "object_position": null,
            "order": null,
            "overflow": null,
            "overflow_x": null,
            "overflow_y": null,
            "padding": null,
            "right": null,
            "top": null,
            "visibility": null,
            "width": null
          }
        },
        "54e0b96fa4a747a3bf2152fa8f5f2e2e": {
          "model_module": "@jupyter-widgets/base",
          "model_name": "LayoutModel",
          "model_module_version": "1.2.0",
          "state": {
            "_model_module": "@jupyter-widgets/base",
            "_model_module_version": "1.2.0",
            "_model_name": "LayoutModel",
            "_view_count": null,
            "_view_module": "@jupyter-widgets/base",
            "_view_module_version": "1.2.0",
            "_view_name": "LayoutView",
            "align_content": null,
            "align_items": null,
            "align_self": null,
            "border": null,
            "bottom": null,
            "display": null,
            "flex": null,
            "flex_flow": null,
            "grid_area": null,
            "grid_auto_columns": null,
            "grid_auto_flow": null,
            "grid_auto_rows": null,
            "grid_column": null,
            "grid_gap": null,
            "grid_row": null,
            "grid_template_areas": null,
            "grid_template_columns": null,
            "grid_template_rows": null,
            "height": null,
            "justify_content": null,
            "justify_items": null,
            "left": null,
            "margin": null,
            "max_height": null,
            "max_width": null,
            "min_height": null,
            "min_width": null,
            "object_fit": null,
            "object_position": null,
            "order": null,
            "overflow": null,
            "overflow_x": null,
            "overflow_y": null,
            "padding": null,
            "right": null,
            "top": null,
            "visibility": null,
            "width": null
          }
        },
        "802136144538438cbb2b806a4c37210c": {
          "model_module": "@jupyter-widgets/controls",
          "model_name": "DescriptionStyleModel",
          "model_module_version": "1.5.0",
          "state": {
            "_model_module": "@jupyter-widgets/controls",
            "_model_module_version": "1.5.0",
            "_model_name": "DescriptionStyleModel",
            "_view_count": null,
            "_view_module": "@jupyter-widgets/base",
            "_view_module_version": "1.2.0",
            "_view_name": "StyleView",
            "description_width": ""
          }
        },
        "2ed5da9d69d441b7b3b131622f2a3855": {
          "model_module": "@jupyter-widgets/base",
          "model_name": "LayoutModel",
          "model_module_version": "1.2.0",
          "state": {
            "_model_module": "@jupyter-widgets/base",
            "_model_module_version": "1.2.0",
            "_model_name": "LayoutModel",
            "_view_count": null,
            "_view_module": "@jupyter-widgets/base",
            "_view_module_version": "1.2.0",
            "_view_name": "LayoutView",
            "align_content": null,
            "align_items": null,
            "align_self": null,
            "border": null,
            "bottom": null,
            "display": null,
            "flex": null,
            "flex_flow": null,
            "grid_area": null,
            "grid_auto_columns": null,
            "grid_auto_flow": null,
            "grid_auto_rows": null,
            "grid_column": null,
            "grid_gap": null,
            "grid_row": null,
            "grid_template_areas": null,
            "grid_template_columns": null,
            "grid_template_rows": null,
            "height": null,
            "justify_content": null,
            "justify_items": null,
            "left": null,
            "margin": null,
            "max_height": null,
            "max_width": null,
            "min_height": null,
            "min_width": null,
            "object_fit": null,
            "object_position": null,
            "order": null,
            "overflow": null,
            "overflow_x": null,
            "overflow_y": null,
            "padding": null,
            "right": null,
            "top": null,
            "visibility": null,
            "width": null
          }
        },
        "94369ebde9044f128c72b8feca3a4d14": {
          "model_module": "@jupyter-widgets/controls",
          "model_name": "ProgressStyleModel",
          "model_module_version": "1.5.0",
          "state": {
            "_model_module": "@jupyter-widgets/controls",
            "_model_module_version": "1.5.0",
            "_model_name": "ProgressStyleModel",
            "_view_count": null,
            "_view_module": "@jupyter-widgets/base",
            "_view_module_version": "1.2.0",
            "_view_name": "StyleView",
            "bar_color": null,
            "description_width": ""
          }
        },
        "43622b70f0944937971854be17ab5083": {
          "model_module": "@jupyter-widgets/base",
          "model_name": "LayoutModel",
          "model_module_version": "1.2.0",
          "state": {
            "_model_module": "@jupyter-widgets/base",
            "_model_module_version": "1.2.0",
            "_model_name": "LayoutModel",
            "_view_count": null,
            "_view_module": "@jupyter-widgets/base",
            "_view_module_version": "1.2.0",
            "_view_name": "LayoutView",
            "align_content": null,
            "align_items": null,
            "align_self": null,
            "border": null,
            "bottom": null,
            "display": null,
            "flex": null,
            "flex_flow": null,
            "grid_area": null,
            "grid_auto_columns": null,
            "grid_auto_flow": null,
            "grid_auto_rows": null,
            "grid_column": null,
            "grid_gap": null,
            "grid_row": null,
            "grid_template_areas": null,
            "grid_template_columns": null,
            "grid_template_rows": null,
            "height": null,
            "justify_content": null,
            "justify_items": null,
            "left": null,
            "margin": null,
            "max_height": null,
            "max_width": null,
            "min_height": null,
            "min_width": null,
            "object_fit": null,
            "object_position": null,
            "order": null,
            "overflow": null,
            "overflow_x": null,
            "overflow_y": null,
            "padding": null,
            "right": null,
            "top": null,
            "visibility": null,
            "width": null
          }
        },
        "1b82377ba8824c66a41c27d15c69b5c6": {
          "model_module": "@jupyter-widgets/controls",
          "model_name": "DescriptionStyleModel",
          "model_module_version": "1.5.0",
          "state": {
            "_model_module": "@jupyter-widgets/controls",
            "_model_module_version": "1.5.0",
            "_model_name": "DescriptionStyleModel",
            "_view_count": null,
            "_view_module": "@jupyter-widgets/base",
            "_view_module_version": "1.2.0",
            "_view_name": "StyleView",
            "description_width": ""
          }
        },
        "a553f77b0dcf448280cd3cc8aea03225": {
          "model_module": "@jupyter-widgets/controls",
          "model_name": "HBoxModel",
          "model_module_version": "1.5.0",
          "state": {
            "_dom_classes": [],
            "_model_module": "@jupyter-widgets/controls",
            "_model_module_version": "1.5.0",
            "_model_name": "HBoxModel",
            "_view_count": null,
            "_view_module": "@jupyter-widgets/controls",
            "_view_module_version": "1.5.0",
            "_view_name": "HBoxView",
            "box_style": "",
            "children": [
              "IPY_MODEL_79f0013b69f94a5ebaf3fcced78c3cab",
              "IPY_MODEL_d7a74ac4f762459eb1d6c4d9ab1fac0f",
              "IPY_MODEL_2844e24b4bc7441387a62256fd6275a8"
            ],
            "layout": "IPY_MODEL_c1415acf670842559394510bea2d4564"
          }
        },
        "79f0013b69f94a5ebaf3fcced78c3cab": {
          "model_module": "@jupyter-widgets/controls",
          "model_name": "HTMLModel",
          "model_module_version": "1.5.0",
          "state": {
            "_dom_classes": [],
            "_model_module": "@jupyter-widgets/controls",
            "_model_module_version": "1.5.0",
            "_model_name": "HTMLModel",
            "_view_count": null,
            "_view_module": "@jupyter-widgets/controls",
            "_view_module_version": "1.5.0",
            "_view_name": "HTMLView",
            "description": "",
            "description_tooltip": null,
            "layout": "IPY_MODEL_817a3183a4a04afea65bbad92766cd0a",
            "placeholder": "​",
            "style": "IPY_MODEL_1ae87f30bf6043e3bdbdda2ec8b7d603",
            "value": "pytorch_model.bin: 100%"
          }
        },
        "d7a74ac4f762459eb1d6c4d9ab1fac0f": {
          "model_module": "@jupyter-widgets/controls",
          "model_name": "FloatProgressModel",
          "model_module_version": "1.5.0",
          "state": {
            "_dom_classes": [],
            "_model_module": "@jupyter-widgets/controls",
            "_model_module_version": "1.5.0",
            "_model_name": "FloatProgressModel",
            "_view_count": null,
            "_view_module": "@jupyter-widgets/controls",
            "_view_module_version": "1.5.0",
            "_view_name": "ProgressView",
            "bar_style": "success",
            "description": "",
            "description_tooltip": null,
            "layout": "IPY_MODEL_eb91044ccaba4d679825f6d636fdbf8e",
            "max": 377617425,
            "min": 0,
            "orientation": "horizontal",
            "style": "IPY_MODEL_b7af238bc73a4a908cfc627adc6b470b",
            "value": 377617425
          }
        },
        "2844e24b4bc7441387a62256fd6275a8": {
          "model_module": "@jupyter-widgets/controls",
          "model_name": "HTMLModel",
          "model_module_version": "1.5.0",
          "state": {
            "_dom_classes": [],
            "_model_module": "@jupyter-widgets/controls",
            "_model_module_version": "1.5.0",
            "_model_name": "HTMLModel",
            "_view_count": null,
            "_view_module": "@jupyter-widgets/controls",
            "_view_module_version": "1.5.0",
            "_view_name": "HTMLView",
            "description": "",
            "description_tooltip": null,
            "layout": "IPY_MODEL_a3711c5af72349a2b47a38626660abc4",
            "placeholder": "​",
            "style": "IPY_MODEL_7f7e78d6381649c0bb13e8f24833acd5",
            "value": " 378M/378M [00:01&lt;00:00, 353MB/s]"
          }
        },
        "c1415acf670842559394510bea2d4564": {
          "model_module": "@jupyter-widgets/base",
          "model_name": "LayoutModel",
          "model_module_version": "1.2.0",
          "state": {
            "_model_module": "@jupyter-widgets/base",
            "_model_module_version": "1.2.0",
            "_model_name": "LayoutModel",
            "_view_count": null,
            "_view_module": "@jupyter-widgets/base",
            "_view_module_version": "1.2.0",
            "_view_name": "LayoutView",
            "align_content": null,
            "align_items": null,
            "align_self": null,
            "border": null,
            "bottom": null,
            "display": null,
            "flex": null,
            "flex_flow": null,
            "grid_area": null,
            "grid_auto_columns": null,
            "grid_auto_flow": null,
            "grid_auto_rows": null,
            "grid_column": null,
            "grid_gap": null,
            "grid_row": null,
            "grid_template_areas": null,
            "grid_template_columns": null,
            "grid_template_rows": null,
            "height": null,
            "justify_content": null,
            "justify_items": null,
            "left": null,
            "margin": null,
            "max_height": null,
            "max_width": null,
            "min_height": null,
            "min_width": null,
            "object_fit": null,
            "object_position": null,
            "order": null,
            "overflow": null,
            "overflow_x": null,
            "overflow_y": null,
            "padding": null,
            "right": null,
            "top": null,
            "visibility": null,
            "width": null
          }
        },
        "817a3183a4a04afea65bbad92766cd0a": {
          "model_module": "@jupyter-widgets/base",
          "model_name": "LayoutModel",
          "model_module_version": "1.2.0",
          "state": {
            "_model_module": "@jupyter-widgets/base",
            "_model_module_version": "1.2.0",
            "_model_name": "LayoutModel",
            "_view_count": null,
            "_view_module": "@jupyter-widgets/base",
            "_view_module_version": "1.2.0",
            "_view_name": "LayoutView",
            "align_content": null,
            "align_items": null,
            "align_self": null,
            "border": null,
            "bottom": null,
            "display": null,
            "flex": null,
            "flex_flow": null,
            "grid_area": null,
            "grid_auto_columns": null,
            "grid_auto_flow": null,
            "grid_auto_rows": null,
            "grid_column": null,
            "grid_gap": null,
            "grid_row": null,
            "grid_template_areas": null,
            "grid_template_columns": null,
            "grid_template_rows": null,
            "height": null,
            "justify_content": null,
            "justify_items": null,
            "left": null,
            "margin": null,
            "max_height": null,
            "max_width": null,
            "min_height": null,
            "min_width": null,
            "object_fit": null,
            "object_position": null,
            "order": null,
            "overflow": null,
            "overflow_x": null,
            "overflow_y": null,
            "padding": null,
            "right": null,
            "top": null,
            "visibility": null,
            "width": null
          }
        },
        "1ae87f30bf6043e3bdbdda2ec8b7d603": {
          "model_module": "@jupyter-widgets/controls",
          "model_name": "DescriptionStyleModel",
          "model_module_version": "1.5.0",
          "state": {
            "_model_module": "@jupyter-widgets/controls",
            "_model_module_version": "1.5.0",
            "_model_name": "DescriptionStyleModel",
            "_view_count": null,
            "_view_module": "@jupyter-widgets/base",
            "_view_module_version": "1.2.0",
            "_view_name": "StyleView",
            "description_width": ""
          }
        },
        "eb91044ccaba4d679825f6d636fdbf8e": {
          "model_module": "@jupyter-widgets/base",
          "model_name": "LayoutModel",
          "model_module_version": "1.2.0",
          "state": {
            "_model_module": "@jupyter-widgets/base",
            "_model_module_version": "1.2.0",
            "_model_name": "LayoutModel",
            "_view_count": null,
            "_view_module": "@jupyter-widgets/base",
            "_view_module_version": "1.2.0",
            "_view_name": "LayoutView",
            "align_content": null,
            "align_items": null,
            "align_self": null,
            "border": null,
            "bottom": null,
            "display": null,
            "flex": null,
            "flex_flow": null,
            "grid_area": null,
            "grid_auto_columns": null,
            "grid_auto_flow": null,
            "grid_auto_rows": null,
            "grid_column": null,
            "grid_gap": null,
            "grid_row": null,
            "grid_template_areas": null,
            "grid_template_columns": null,
            "grid_template_rows": null,
            "height": null,
            "justify_content": null,
            "justify_items": null,
            "left": null,
            "margin": null,
            "max_height": null,
            "max_width": null,
            "min_height": null,
            "min_width": null,
            "object_fit": null,
            "object_position": null,
            "order": null,
            "overflow": null,
            "overflow_x": null,
            "overflow_y": null,
            "padding": null,
            "right": null,
            "top": null,
            "visibility": null,
            "width": null
          }
        },
        "b7af238bc73a4a908cfc627adc6b470b": {
          "model_module": "@jupyter-widgets/controls",
          "model_name": "ProgressStyleModel",
          "model_module_version": "1.5.0",
          "state": {
            "_model_module": "@jupyter-widgets/controls",
            "_model_module_version": "1.5.0",
            "_model_name": "ProgressStyleModel",
            "_view_count": null,
            "_view_module": "@jupyter-widgets/base",
            "_view_module_version": "1.2.0",
            "_view_name": "StyleView",
            "bar_color": null,
            "description_width": ""
          }
        },
        "a3711c5af72349a2b47a38626660abc4": {
          "model_module": "@jupyter-widgets/base",
          "model_name": "LayoutModel",
          "model_module_version": "1.2.0",
          "state": {
            "_model_module": "@jupyter-widgets/base",
            "_model_module_version": "1.2.0",
            "_model_name": "LayoutModel",
            "_view_count": null,
            "_view_module": "@jupyter-widgets/base",
            "_view_module_version": "1.2.0",
            "_view_name": "LayoutView",
            "align_content": null,
            "align_items": null,
            "align_self": null,
            "border": null,
            "bottom": null,
            "display": null,
            "flex": null,
            "flex_flow": null,
            "grid_area": null,
            "grid_auto_columns": null,
            "grid_auto_flow": null,
            "grid_auto_rows": null,
            "grid_column": null,
            "grid_gap": null,
            "grid_row": null,
            "grid_template_areas": null,
            "grid_template_columns": null,
            "grid_template_rows": null,
            "height": null,
            "justify_content": null,
            "justify_items": null,
            "left": null,
            "margin": null,
            "max_height": null,
            "max_width": null,
            "min_height": null,
            "min_width": null,
            "object_fit": null,
            "object_position": null,
            "order": null,
            "overflow": null,
            "overflow_x": null,
            "overflow_y": null,
            "padding": null,
            "right": null,
            "top": null,
            "visibility": null,
            "width": null
          }
        },
        "7f7e78d6381649c0bb13e8f24833acd5": {
          "model_module": "@jupyter-widgets/controls",
          "model_name": "DescriptionStyleModel",
          "model_module_version": "1.5.0",
          "state": {
            "_model_module": "@jupyter-widgets/controls",
            "_model_module_version": "1.5.0",
            "_model_name": "DescriptionStyleModel",
            "_view_count": null,
            "_view_module": "@jupyter-widgets/base",
            "_view_module_version": "1.2.0",
            "_view_name": "StyleView",
            "description_width": ""
          }
        },
        "d32a5859b1814d14b05c3880ec7b6029": {
          "model_module": "@jupyter-widgets/controls",
          "model_name": "HBoxModel",
          "model_module_version": "1.5.0",
          "state": {
            "_dom_classes": [],
            "_model_module": "@jupyter-widgets/controls",
            "_model_module_version": "1.5.0",
            "_model_name": "HBoxModel",
            "_view_count": null,
            "_view_module": "@jupyter-widgets/controls",
            "_view_module_version": "1.5.0",
            "_view_name": "HBoxView",
            "box_style": "",
            "children": [
              "IPY_MODEL_8a11bc917ddf42b58a39c1cd84a152ea",
              "IPY_MODEL_d1414d52d9aa42e689a887b1ee53ab2d",
              "IPY_MODEL_dacbe5d1c9c941abae521c6a5951607b"
            ],
            "layout": "IPY_MODEL_6248448bfd404abc95787cee1c4d63f1"
          }
        },
        "8a11bc917ddf42b58a39c1cd84a152ea": {
          "model_module": "@jupyter-widgets/controls",
          "model_name": "HTMLModel",
          "model_module_version": "1.5.0",
          "state": {
            "_dom_classes": [],
            "_model_module": "@jupyter-widgets/controls",
            "_model_module_version": "1.5.0",
            "_model_name": "HTMLModel",
            "_view_count": null,
            "_view_module": "@jupyter-widgets/controls",
            "_view_module_version": "1.5.0",
            "_view_name": "HTMLView",
            "description": "",
            "description_tooltip": null,
            "layout": "IPY_MODEL_81b422c6bef4437db4b96853b92f52f9",
            "placeholder": "​",
            "style": "IPY_MODEL_508feb24235a4f5db7fa72eef4f152c0",
            "value": "model.safetensors: 100%"
          }
        },
        "d1414d52d9aa42e689a887b1ee53ab2d": {
          "model_module": "@jupyter-widgets/controls",
          "model_name": "FloatProgressModel",
          "model_module_version": "1.5.0",
          "state": {
            "_dom_classes": [],
            "_model_module": "@jupyter-widgets/controls",
            "_model_module_version": "1.5.0",
            "_model_name": "FloatProgressModel",
            "_view_count": null,
            "_view_module": "@jupyter-widgets/controls",
            "_view_module_version": "1.5.0",
            "_view_name": "ProgressView",
            "bar_style": "success",
            "description": "",
            "description_tooltip": null,
            "layout": "IPY_MODEL_120aced66fee4050bc191e0caa0db4ad",
            "max": 377555872,
            "min": 0,
            "orientation": "horizontal",
            "style": "IPY_MODEL_88d7ae0d068540588a5e8b78377664a7",
            "value": 377555872
          }
        },
        "dacbe5d1c9c941abae521c6a5951607b": {
          "model_module": "@jupyter-widgets/controls",
          "model_name": "HTMLModel",
          "model_module_version": "1.5.0",
          "state": {
            "_dom_classes": [],
            "_model_module": "@jupyter-widgets/controls",
            "_model_module_version": "1.5.0",
            "_model_name": "HTMLModel",
            "_view_count": null,
            "_view_module": "@jupyter-widgets/controls",
            "_view_module_version": "1.5.0",
            "_view_name": "HTMLView",
            "description": "",
            "description_tooltip": null,
            "layout": "IPY_MODEL_0fd30ff172394d23a54249c48311b34d",
            "placeholder": "​",
            "style": "IPY_MODEL_a62e6e7f39904516a71b1dc45d02b5e0",
            "value": " 378M/378M [00:01&lt;00:00, 227MB/s]"
          }
        },
        "6248448bfd404abc95787cee1c4d63f1": {
          "model_module": "@jupyter-widgets/base",
          "model_name": "LayoutModel",
          "model_module_version": "1.2.0",
          "state": {
            "_model_module": "@jupyter-widgets/base",
            "_model_module_version": "1.2.0",
            "_model_name": "LayoutModel",
            "_view_count": null,
            "_view_module": "@jupyter-widgets/base",
            "_view_module_version": "1.2.0",
            "_view_name": "LayoutView",
            "align_content": null,
            "align_items": null,
            "align_self": null,
            "border": null,
            "bottom": null,
            "display": null,
            "flex": null,
            "flex_flow": null,
            "grid_area": null,
            "grid_auto_columns": null,
            "grid_auto_flow": null,
            "grid_auto_rows": null,
            "grid_column": null,
            "grid_gap": null,
            "grid_row": null,
            "grid_template_areas": null,
            "grid_template_columns": null,
            "grid_template_rows": null,
            "height": null,
            "justify_content": null,
            "justify_items": null,
            "left": null,
            "margin": null,
            "max_height": null,
            "max_width": null,
            "min_height": null,
            "min_width": null,
            "object_fit": null,
            "object_position": null,
            "order": null,
            "overflow": null,
            "overflow_x": null,
            "overflow_y": null,
            "padding": null,
            "right": null,
            "top": null,
            "visibility": null,
            "width": null
          }
        },
        "81b422c6bef4437db4b96853b92f52f9": {
          "model_module": "@jupyter-widgets/base",
          "model_name": "LayoutModel",
          "model_module_version": "1.2.0",
          "state": {
            "_model_module": "@jupyter-widgets/base",
            "_model_module_version": "1.2.0",
            "_model_name": "LayoutModel",
            "_view_count": null,
            "_view_module": "@jupyter-widgets/base",
            "_view_module_version": "1.2.0",
            "_view_name": "LayoutView",
            "align_content": null,
            "align_items": null,
            "align_self": null,
            "border": null,
            "bottom": null,
            "display": null,
            "flex": null,
            "flex_flow": null,
            "grid_area": null,
            "grid_auto_columns": null,
            "grid_auto_flow": null,
            "grid_auto_rows": null,
            "grid_column": null,
            "grid_gap": null,
            "grid_row": null,
            "grid_template_areas": null,
            "grid_template_columns": null,
            "grid_template_rows": null,
            "height": null,
            "justify_content": null,
            "justify_items": null,
            "left": null,
            "margin": null,
            "max_height": null,
            "max_width": null,
            "min_height": null,
            "min_width": null,
            "object_fit": null,
            "object_position": null,
            "order": null,
            "overflow": null,
            "overflow_x": null,
            "overflow_y": null,
            "padding": null,
            "right": null,
            "top": null,
            "visibility": null,
            "width": null
          }
        },
        "508feb24235a4f5db7fa72eef4f152c0": {
          "model_module": "@jupyter-widgets/controls",
          "model_name": "DescriptionStyleModel",
          "model_module_version": "1.5.0",
          "state": {
            "_model_module": "@jupyter-widgets/controls",
            "_model_module_version": "1.5.0",
            "_model_name": "DescriptionStyleModel",
            "_view_count": null,
            "_view_module": "@jupyter-widgets/base",
            "_view_module_version": "1.2.0",
            "_view_name": "StyleView",
            "description_width": ""
          }
        },
        "120aced66fee4050bc191e0caa0db4ad": {
          "model_module": "@jupyter-widgets/base",
          "model_name": "LayoutModel",
          "model_module_version": "1.2.0",
          "state": {
            "_model_module": "@jupyter-widgets/base",
            "_model_module_version": "1.2.0",
            "_model_name": "LayoutModel",
            "_view_count": null,
            "_view_module": "@jupyter-widgets/base",
            "_view_module_version": "1.2.0",
            "_view_name": "LayoutView",
            "align_content": null,
            "align_items": null,
            "align_self": null,
            "border": null,
            "bottom": null,
            "display": null,
            "flex": null,
            "flex_flow": null,
            "grid_area": null,
            "grid_auto_columns": null,
            "grid_auto_flow": null,
            "grid_auto_rows": null,
            "grid_column": null,
            "grid_gap": null,
            "grid_row": null,
            "grid_template_areas": null,
            "grid_template_columns": null,
            "grid_template_rows": null,
            "height": null,
            "justify_content": null,
            "justify_items": null,
            "left": null,
            "margin": null,
            "max_height": null,
            "max_width": null,
            "min_height": null,
            "min_width": null,
            "object_fit": null,
            "object_position": null,
            "order": null,
            "overflow": null,
            "overflow_x": null,
            "overflow_y": null,
            "padding": null,
            "right": null,
            "top": null,
            "visibility": null,
            "width": null
          }
        },
        "88d7ae0d068540588a5e8b78377664a7": {
          "model_module": "@jupyter-widgets/controls",
          "model_name": "ProgressStyleModel",
          "model_module_version": "1.5.0",
          "state": {
            "_model_module": "@jupyter-widgets/controls",
            "_model_module_version": "1.5.0",
            "_model_name": "ProgressStyleModel",
            "_view_count": null,
            "_view_module": "@jupyter-widgets/base",
            "_view_module_version": "1.2.0",
            "_view_name": "StyleView",
            "bar_color": null,
            "description_width": ""
          }
        },
        "0fd30ff172394d23a54249c48311b34d": {
          "model_module": "@jupyter-widgets/base",
          "model_name": "LayoutModel",
          "model_module_version": "1.2.0",
          "state": {
            "_model_module": "@jupyter-widgets/base",
            "_model_module_version": "1.2.0",
            "_model_name": "LayoutModel",
            "_view_count": null,
            "_view_module": "@jupyter-widgets/base",
            "_view_module_version": "1.2.0",
            "_view_name": "LayoutView",
            "align_content": null,
            "align_items": null,
            "align_self": null,
            "border": null,
            "bottom": null,
            "display": null,
            "flex": null,
            "flex_flow": null,
            "grid_area": null,
            "grid_auto_columns": null,
            "grid_auto_flow": null,
            "grid_auto_rows": null,
            "grid_column": null,
            "grid_gap": null,
            "grid_row": null,
            "grid_template_areas": null,
            "grid_template_columns": null,
            "grid_template_rows": null,
            "height": null,
            "justify_content": null,
            "justify_items": null,
            "left": null,
            "margin": null,
            "max_height": null,
            "max_width": null,
            "min_height": null,
            "min_width": null,
            "object_fit": null,
            "object_position": null,
            "order": null,
            "overflow": null,
            "overflow_x": null,
            "overflow_y": null,
            "padding": null,
            "right": null,
            "top": null,
            "visibility": null,
            "width": null
          }
        },
        "a62e6e7f39904516a71b1dc45d02b5e0": {
          "model_module": "@jupyter-widgets/controls",
          "model_name": "DescriptionStyleModel",
          "model_module_version": "1.5.0",
          "state": {
            "_model_module": "@jupyter-widgets/controls",
            "_model_module_version": "1.5.0",
            "_model_name": "DescriptionStyleModel",
            "_view_count": null,
            "_view_module": "@jupyter-widgets/base",
            "_view_module_version": "1.2.0",
            "_view_name": "StyleView",
            "description_width": ""
          }
        }
      }
    }
  },
  "cells": [
    {
      "cell_type": "markdown",
      "source": [
        "# Speech-based Grammar Score Prediction"
      ],
      "metadata": {
        "id": "mrXVXgJ4IilF"
      }
    },
    {
      "cell_type": "markdown",
      "source": [
        "## Importing Libraries"
      ],
      "metadata": {
        "id": "TSqmCyNWIpU-"
      }
    },
    {
      "cell_type": "code",
      "source": [
        "import os\n",
        "import numpy as np\n",
        "import pandas as pd\n",
        "import torch\n",
        "import torch.nn as nn\n",
        "import torch.optim as optim\n",
        "from torch.utils.data import Dataset, DataLoader\n",
        "import torchaudio\n",
        "import matplotlib.pyplot as plt\n",
        "import seaborn as sns\n",
        "from sklearn.model_selection import train_test_split, KFold\n",
        "from sklearn.metrics import mean_squared_error\n",
        "from scipy.stats import pearsonr\n",
        "import transformers\n",
        "from transformers import AutoFeatureExtractor, AutoModel, Wav2Vec2FeatureExtractor\n",
        "from tqdm import tqdm\n",
        "import warnings\n",
        "import random\n",
        "from torch.cuda.amp import autocast, GradScaler\n",
        "import gc\n",
        "\n",
        "# Suppress warnings\n",
        "warnings.filterwarnings('ignore')"
      ],
      "metadata": {
        "id": "0b_vQlNXIrgg"
      },
      "execution_count": null,
      "outputs": []
    },
    {
      "cell_type": "code",
      "source": [
        "# Mount Google Drive (for Google Colab)\n",
        "try:\n",
        "    from google.colab import drive\n",
        "    drive.mount('/content/drive')\n",
        "    IN_COLAB = True\n",
        "except:\n",
        "    IN_COLAB = False\n",
        "    print(\"Not running in Colab\")\n",
        "\n",
        "# Set random seed for reproducibility\n",
        "SEED = 42\n",
        "torch.manual_seed(SEED)\n",
        "np.random.seed(SEED)\n",
        "random.seed(SEED)\n",
        "if torch.cuda.is_available():\n",
        "    torch.cuda.manual_seed_all(SEED)\n",
        "\n",
        "torch.backends.cudnn.benchmark = False\n",
        "torch.backends.cudnn.deterministic = True\n",
        "\n",
        "# Check for GPU\n",
        "device = torch.device(\"cuda\" if torch.cuda.is_available() else \"cpu\")\n",
        "print(f\"Using device: {device}\")\n",
        "\n",
        "# Configuration parameters\n",
        "CONFIG = {\n",
        "    # Update directories to point to your dataset location\n",
        "    \"train_audio_dir\": \"/content/drive/MyDrive/dataset/audios_train/\" if IN_COLAB else \"./audios_train/\",\n",
        "    \"test_audio_dir\": \"/content/drive/MyDrive/dataset/audios_test/\" if IN_COLAB else \"./audios_test/\",\n",
        "    \"train_csv\": \"/content/drive/MyDrive/dataset/train.csv\" if IN_COLAB else \"./train.csv\",\n",
        "    \"test_csv\": \"/content/drive/MyDrive/dataset/test.csv\" if IN_COLAB else \"./test.csv\",\n",
        "    \"sample_submission\": \"/content/drive/MyDrive/dataset/sample_submission.csv\" if IN_COLAB else \"./sample_submission.csv\",\n",
        "    \"output_dir\": \"/content/drive/MyDrive/dataset/output\" if IN_COLAB else \"./output\",\n",
        "    \"model_save_path\": \"/content/drive/MyDrive/dataset/output/grammar_model.pt\" if IN_COLAB else \"./output/grammar_model.pt\",\n",
        "    \"submission_path\": \"/content/drive/MyDrive/dataset/output/submission.csv\" if IN_COLAB else \"./output/submission.csv\",\n",
        "\n",
        "    # Model paths for ensemble\n",
        "    \"model_save_paths\": [\n",
        "        \"/content/drive/MyDrive/dataset/output/model_fold_1.pt\" if IN_COLAB else \"./output/model_fold_1.pt\",\n",
        "        \"/content/drive/MyDrive/dataset/output/model_fold_2.pt\" if IN_COLAB else \"./output/model_fold_2.pt\",\n",
        "        \"/content/drive/MyDrive/dataset/output/model_fold_3.pt\" if IN_COLAB else \"./output/model_fold_3.pt\",\n",
        "    ],\n",
        "\n",
        "    # Audio processing parameters\n",
        "    \"target_sample_rate\": 16000,\n",
        "    \"max_audio_length\": 10,  # 10 seconds\n",
        "\n",
        "    # Model parameters - using WavLM base instead of plus for stability\n",
        "    \"base_model\": \"microsoft/wavlm-base\",\n",
        "\n",
        "    # Training parameters\n",
        "    \"batch_size\": 2,  # Small batch size\n",
        "    \"accumulation_steps\": 4,\n",
        "    \"epochs\": 10,\n",
        "    \"learning_rate\": 2e-5,\n",
        "    \"weight_decay\": 0.01,\n",
        "    \"validation_size\": 0.2,\n",
        "    \"use_augmentation\": True,\n",
        "    \"use_mixed_precision\": True,\n",
        "\n",
        "    # K-fold parameters\n",
        "    \"n_folds\": 3,\n",
        "    \"ensemble_weights\": [0.4, 0.3, 0.3],\n",
        "}\n",
        "\n",
        "# Create output directory if it doesn't exist\n",
        "os.makedirs(CONFIG[\"output_dir\"], exist_ok=True)"
      ],
      "metadata": {
        "id": "lWLkpnElIyEs"
      },
      "execution_count": null,
      "outputs": []
    },
    {
      "cell_type": "markdown",
      "source": [
        "# 1. Audio Processing"
      ],
      "metadata": {
        "id": "6t2x37xTI41D"
      }
    },
    {
      "cell_type": "code",
      "source": [
        "def load_and_process_audio(file_path, target_sr=16000, max_len=10, augment=False):\n",
        "    \"\"\"Load and preprocess audio file\"\"\"\n",
        "    try:\n",
        "        # Load audio with torchaudio\n",
        "        waveform, sample_rate = torchaudio.load(file_path)\n",
        "\n",
        "        # Resample if necessary\n",
        "        if sample_rate != target_sr:\n",
        "            resampler = torchaudio.transforms.Resample(orig_freq=sample_rate, new_freq=target_sr)\n",
        "            waveform = resampler(waveform)\n",
        "\n",
        "        # Convert to mono if stereo\n",
        "        if waveform.shape[0] > 1:\n",
        "            waveform = torch.mean(waveform, dim=0, keepdim=True)\n",
        "\n",
        "        # Normalize audio\n",
        "        peak = torch.abs(waveform).max()\n",
        "        if peak > 0:\n",
        "            waveform = waveform / peak\n",
        "\n",
        "        # Apply simple augmentation\n",
        "        if augment:\n",
        "            # Add noise\n",
        "            if random.random() < 0.3:\n",
        "                noise_level = random.uniform(0.001, 0.005)\n",
        "                noise = torch.randn_like(waveform) * noise_level\n",
        "                waveform = waveform + noise\n",
        "\n",
        "            # Time shift\n",
        "            if random.random() < 0.3:\n",
        "                shift_samples = int(random.uniform(-0.1, 0.1) * waveform.shape[1])\n",
        "                if shift_samples > 0:\n",
        "                    waveform = torch.cat([torch.zeros(1, shift_samples), waveform[:, :-shift_samples]], dim=1)\n",
        "                elif shift_samples < 0:\n",
        "                    shift_samples = abs(shift_samples)\n",
        "                    waveform = torch.cat([waveform[:, shift_samples:], torch.zeros(1, shift_samples)], dim=1)\n",
        "\n",
        "        # Fix length - maximum 10 seconds (160,000 samples)\n",
        "        max_samples = target_sr * max_len\n",
        "        if waveform.shape[1] > max_samples:\n",
        "            # Take random segment for training, or middle segment for inference\n",
        "            if augment:\n",
        "                start = random.randint(0, waveform.shape[1] - max_samples)\n",
        "            else:\n",
        "                start = (waveform.shape[1] - max_samples) // 2\n",
        "            waveform = waveform[:, start:start + max_samples]\n",
        "        elif waveform.shape[1] < max_samples:\n",
        "            # Pad with zeros to maximum length\n",
        "            padding = torch.zeros(1, max_samples - waveform.shape[1])\n",
        "            waveform = torch.cat([waveform, padding], dim=1)\n",
        "\n",
        "        return waveform\n",
        "\n",
        "    except Exception as e:\n",
        "        print(f\"Error processing {file_path}: {e}\")\n",
        "        # Return silent audio as fallback\n",
        "        return torch.zeros(1, target_sr * max_len)"
      ],
      "metadata": {
        "id": "293us_VsI-3S"
      },
      "execution_count": null,
      "outputs": []
    },
    {
      "cell_type": "markdown",
      "source": [
        "\n",
        "# 2. Dataset Class"
      ],
      "metadata": {
        "id": "_KlL8l6LJAYI"
      }
    },
    {
      "cell_type": "code",
      "source": [
        "class AudioDataset(Dataset):\n",
        "    def __init__(self, csv_data, audio_dir, feature_extractor, is_test=False, use_augmentation=False):\n",
        "        \"\"\"Dataset for grammar scoring from audio\"\"\"\n",
        "        # Load CSV data\n",
        "        if isinstance(csv_data, str):\n",
        "            self.data = pd.read_csv(csv_data)\n",
        "        else:\n",
        "            self.data = csv_data.copy()\n",
        "\n",
        "        self.audio_dir = audio_dir\n",
        "        self.feature_extractor = feature_extractor\n",
        "        self.is_test = is_test\n",
        "        self.use_augmentation = use_augmentation\n",
        "        self.target_sr = CONFIG[\"target_sample_rate\"]\n",
        "        self.max_length = CONFIG[\"max_audio_length\"]\n",
        "\n",
        "        print(f\"Dataset initialized with {len(self.data)} samples. Augmentation: {use_augmentation}\")\n",
        "\n",
        "    def __len__(self):\n",
        "        return len(self.data)\n",
        "\n",
        "    def __getitem__(self, idx):\n",
        "        # Get audio path\n",
        "        audio_path = os.path.join(self.audio_dir, self.data.iloc[idx]['filename'])\n",
        "\n",
        "        # Load and process audio\n",
        "        waveform = load_and_process_audio(\n",
        "            audio_path,\n",
        "            self.target_sr,\n",
        "            self.max_length,\n",
        "            self.use_augmentation\n",
        "        )\n",
        "\n",
        "        # Process with feature extractor\n",
        "        inputs = self.feature_extractor(\n",
        "            waveform.squeeze().numpy(),\n",
        "            sampling_rate=self.target_sr,\n",
        "            return_tensors=\"pt\"\n",
        "        )\n",
        "\n",
        "        # Get features\n",
        "        input_values = inputs.input_values.squeeze()\n",
        "\n",
        "        # Build result dictionary\n",
        "        if not self.is_test:\n",
        "            label = torch.tensor(self.data.iloc[idx]['label'], dtype=torch.float)\n",
        "            return {\n",
        "                'input_values': input_values,\n",
        "                'labels': label,\n",
        "                'idx': idx\n",
        "            }\n",
        "        else:\n",
        "            return {\n",
        "                'input_values': input_values,\n",
        "                'filename': self.data.iloc[idx]['filename'],\n",
        "                'idx': idx\n",
        "            }\n",
        "\n"
      ],
      "metadata": {
        "id": "6y_B4D5oJEKi"
      },
      "execution_count": null,
      "outputs": []
    },
    {
      "cell_type": "markdown",
      "source": [
        "\n",
        "# 3. Custom Collate Function"
      ],
      "metadata": {
        "id": "94QmDbYtJFs9"
      }
    },
    {
      "cell_type": "code",
      "source": [
        "def collate_fn(batch):\n",
        "    \"\"\"Custom collate function for batching\"\"\"\n",
        "    # Get max length in batch\n",
        "    max_len = max(x['input_values'].shape[0] for x in batch)\n",
        "\n",
        "    # Prepare tensors for batch\n",
        "    batch_size = len(batch)\n",
        "    input_values = torch.zeros(batch_size, max_len)\n",
        "    attention_mask = torch.zeros(batch_size, max_len)\n",
        "\n",
        "    for i, item in enumerate(batch):\n",
        "        # Get input values\n",
        "        input_val = item['input_values']\n",
        "        length = input_val.shape[0]\n",
        "\n",
        "        # Add to batch tensors\n",
        "        input_values[i, :length] = input_val\n",
        "        attention_mask[i, :length] = 1\n",
        "\n",
        "    # Create batch dictionary\n",
        "    batch_dict = {\n",
        "        'input_values': input_values,\n",
        "        'attention_mask': attention_mask,\n",
        "        'idx': [x['idx'] for x in batch]\n",
        "    }\n",
        "\n",
        "    # Add labels for training or filenames for testing\n",
        "    if 'labels' in batch[0]:\n",
        "        batch_dict['labels'] = torch.stack([x['labels'] for x in batch])\n",
        "    else:\n",
        "        batch_dict['filenames'] = [x['filename'] for x in batch]\n",
        "\n",
        "    return batch_dict"
      ],
      "metadata": {
        "id": "yumrcSloJJlt"
      },
      "execution_count": null,
      "outputs": []
    },
    {
      "cell_type": "markdown",
      "source": [
        "# 4. Model Architecture"
      ],
      "metadata": {
        "id": "KF-Lbn8qJMPX"
      }
    },
    {
      "cell_type": "code",
      "source": [
        "\n",
        "class GrammarScoreModel(nn.Module):\n",
        "    def __init__(self, base_model_name=CONFIG[\"base_model\"]):\n",
        "        super(GrammarScoreModel, self).__init__()\n",
        "\n",
        "        # Load base model\n",
        "        self.base_model = AutoModel.from_pretrained(base_model_name)\n",
        "\n",
        "        # Freeze early layers\n",
        "        self._freeze_layers()\n",
        "\n",
        "        # Get hidden size\n",
        "        hidden_size = self.base_model.config.hidden_size\n",
        "\n",
        "        # Regression head\n",
        "        self.regression_head = nn.Sequential(\n",
        "            nn.Linear(hidden_size, 256),\n",
        "            nn.GELU(),\n",
        "            nn.Dropout(0.2),\n",
        "\n",
        "            nn.Linear(256, 64),\n",
        "            nn.GELU(),\n",
        "            nn.Dropout(0.2),\n",
        "\n",
        "            nn.Linear(64, 1)\n",
        "        )\n",
        "\n",
        "        # Initialize weights properly\n",
        "        self._init_weights()\n",
        "\n",
        "    def _freeze_layers(self):\n",
        "        \"\"\"Freeze early layers of base model\"\"\"\n",
        "        # Keep only the last 3 transformer layers trainable\n",
        "        trainable_layers = ['encoder.layers.9', 'encoder.layers.10', 'encoder.layers.11']\n",
        "\n",
        "        for name, param in self.base_model.named_parameters():\n",
        "            param.requires_grad = any(layer in name for layer in trainable_layers)\n",
        "\n",
        "    def _init_weights(self):\n",
        "        \"\"\"Initialize weights for better convergence\"\"\"\n",
        "        for m in self.regression_head.modules():\n",
        "            if isinstance(m, nn.Linear):\n",
        "                nn.init.xavier_uniform_(m.weight)\n",
        "                if m.bias is not None:\n",
        "                    nn.init.zeros_(m.bias)\n",
        "\n",
        "    def forward(self, input_values, attention_mask=None):\n",
        "        \"\"\"Forward pass\"\"\"\n",
        "        # Pass through base model\n",
        "        outputs = self.base_model(\n",
        "            input_values=input_values,\n",
        "            attention_mask=attention_mask\n",
        "        )\n",
        "\n",
        "        # Get hidden states\n",
        "        hidden_states = outputs.last_hidden_state\n",
        "\n",
        "        # Apply pooling\n",
        "        if attention_mask is not None:\n",
        "            # IMPORTANT: Make sure hidden_states and attention_mask have the same sequence length\n",
        "            seq_len = hidden_states.shape[1]\n",
        "            mask_len = attention_mask.shape[1]\n",
        "\n",
        "            if mask_len != seq_len:\n",
        "                # If the attention mask is longer than hidden states, truncate it\n",
        "                if mask_len > seq_len:\n",
        "                    attention_mask = attention_mask[:, :seq_len]\n",
        "                # If the attention mask is shorter than hidden states, pad it with zeros\n",
        "                else:\n",
        "                    padding = torch.zeros(\n",
        "                        attention_mask.shape[0],\n",
        "                        seq_len - mask_len,\n",
        "                        device=attention_mask.device,\n",
        "                        dtype=attention_mask.dtype\n",
        "                    )\n",
        "                    attention_mask = torch.cat([attention_mask, padding], dim=1)\n",
        "\n",
        "            # Now expand and apply the mask\n",
        "            expanded_mask = attention_mask.unsqueeze(-1).float()\n",
        "            hidden_states = hidden_states * expanded_mask\n",
        "            pooled = hidden_states.sum(dim=1) / expanded_mask.sum(dim=1).clamp(min=1e-9)\n",
        "        else:\n",
        "            # Simple mean pooling\n",
        "            pooled = hidden_states.mean(dim=1)\n",
        "\n",
        "        # Get score through regression head\n",
        "        score = self.regression_head(pooled)\n",
        "\n",
        "        # Scale to range [1, 5]\n",
        "        score = torch.sigmoid(score) * 4.0 + 1.0\n",
        "\n",
        "        return score"
      ],
      "metadata": {
        "id": "Eb_YHWUlJSiw"
      },
      "execution_count": null,
      "outputs": []
    },
    {
      "cell_type": "markdown",
      "source": [
        "# 5. Training Function for a Single Fold"
      ],
      "metadata": {
        "id": "bdSFXTnRJU5l"
      }
    },
    {
      "cell_type": "code",
      "source": [
        "def train_fold(fold, train_data, val_data, feature_extractor, model_path, device):\n",
        "    \"\"\"Train a model for a single fold\"\"\"\n",
        "    print(f\"\\n{'='*50}\\nTraining Fold {fold+1}\\n{'='*50}\")\n",
        "\n",
        "    # Create datasets\n",
        "    train_dataset = AudioDataset(\n",
        "        train_data,\n",
        "        CONFIG[\"train_audio_dir\"],\n",
        "        feature_extractor,\n",
        "        use_augmentation=CONFIG[\"use_augmentation\"]\n",
        "    )\n",
        "\n",
        "    val_dataset = AudioDataset(\n",
        "        val_data,\n",
        "        CONFIG[\"train_audio_dir\"],\n",
        "        feature_extractor\n",
        "    )\n",
        "\n",
        "    # Create dataloaders\n",
        "    train_loader = DataLoader(\n",
        "        train_dataset,\n",
        "        batch_size=CONFIG[\"batch_size\"],\n",
        "        shuffle=True,\n",
        "        collate_fn=collate_fn,\n",
        "        num_workers=0  # Using 0 to avoid multiprocessing issues\n",
        "    )\n",
        "\n",
        "    val_loader = DataLoader(\n",
        "        val_dataset,\n",
        "        batch_size=CONFIG[\"batch_size\"],\n",
        "        shuffle=False,\n",
        "        collate_fn=collate_fn,\n",
        "        num_workers=0\n",
        "    )\n",
        "\n",
        "    # Initialize model\n",
        "    model = GrammarScoreModel().to(device)\n",
        "\n",
        "    # Print model info\n",
        "    trainable_params = sum(p.numel() for p in model.parameters() if p.requires_grad)\n",
        "    total_params = sum(p.numel() for p in model.parameters())\n",
        "    print(f\"Model has {total_params:,} total parameters, with {trainable_params:,} trainable\")\n",
        "\n",
        "    # Optimizer\n",
        "    optimizer = optim.AdamW(\n",
        "        model.parameters(),\n",
        "        lr=CONFIG[\"learning_rate\"],\n",
        "        weight_decay=CONFIG[\"weight_decay\"]\n",
        "    )\n",
        "\n",
        "    # Scheduler - cosine annealing\n",
        "    scheduler = optim.lr_scheduler.CosineAnnealingWarmRestarts(\n",
        "        optimizer,\n",
        "        T_0=CONFIG[\"epochs\"],\n",
        "        eta_min=CONFIG[\"learning_rate\"] / 10\n",
        "    )\n",
        "\n",
        "    # Loss function\n",
        "    criterion = nn.MSELoss()\n",
        "\n",
        "    # Initialize trackers\n",
        "    best_val_corr = -1.0\n",
        "    train_losses = []\n",
        "    val_losses = []\n",
        "    val_correlations = []\n",
        "    scaler = GradScaler() if CONFIG[\"use_mixed_precision\"] else None\n",
        "\n",
        "    # Training loop\n",
        "    for epoch in range(CONFIG[\"epochs\"]):\n",
        "        # Training\n",
        "        model.train()\n",
        "        train_loss = 0\n",
        "        optimizer.zero_grad()\n",
        "\n",
        "        progress_bar = tqdm(enumerate(train_loader), total=len(train_loader), desc=f\"Epoch {epoch+1}/{CONFIG['epochs']} [Train]\")\n",
        "\n",
        "        for i, batch in progress_bar:\n",
        "            # Get batch data\n",
        "            input_values = batch['input_values'].to(device)\n",
        "            attention_mask = batch['attention_mask'].to(device)\n",
        "            labels = batch['labels'].to(device).view(-1, 1)\n",
        "\n",
        "            # Forward pass with mixed precision\n",
        "            if CONFIG[\"use_mixed_precision\"]:\n",
        "                with autocast():\n",
        "                    outputs = model(input_values, attention_mask)\n",
        "                    loss = criterion(outputs, labels) / CONFIG[\"accumulation_steps\"]\n",
        "\n",
        "                # Backward pass with scaling\n",
        "                scaler.scale(loss).backward()\n",
        "\n",
        "                # Update if accumulation is complete\n",
        "                if (i + 1) % CONFIG[\"accumulation_steps\"] == 0 or (i + 1) == len(train_loader):\n",
        "                    scaler.unscale_(optimizer)\n",
        "                    # Clip gradients to avoid explosion\n",
        "                    torch.nn.utils.clip_grad_norm_(model.parameters(), 1.0)\n",
        "                    scaler.step(optimizer)\n",
        "                    scaler.update()\n",
        "                    optimizer.zero_grad()\n",
        "            else:\n",
        "                # Standard forward pass\n",
        "                outputs = model(input_values, attention_mask)\n",
        "                loss = criterion(outputs, labels) / CONFIG[\"accumulation_steps\"]\n",
        "                loss.backward()\n",
        "\n",
        "                # Update if accumulation is complete\n",
        "                if (i + 1) % CONFIG[\"accumulation_steps\"] == 0 or (i + 1) == len(train_loader):\n",
        "                    torch.nn.utils.clip_grad_norm_(model.parameters(), 1.0)\n",
        "                    optimizer.step()\n",
        "                    optimizer.zero_grad()\n",
        "\n",
        "            # Update metrics\n",
        "            train_loss += loss.item() * CONFIG[\"accumulation_steps\"]\n",
        "\n",
        "            # Update progress bar\n",
        "            progress_bar.set_postfix({'loss': loss.item() * CONFIG[\"accumulation_steps\"]})\n",
        "\n",
        "        # Step scheduler\n",
        "        scheduler.step()\n",
        "\n",
        "        # Calculate average training loss\n",
        "        avg_train_loss = train_loss / len(train_loader)\n",
        "        train_losses.append(avg_train_loss)\n",
        "\n",
        "        # Validation\n",
        "        model.eval()\n",
        "        val_loss = 0\n",
        "        all_preds = []\n",
        "        all_labels = []\n",
        "\n",
        "        with torch.no_grad():\n",
        "            for batch in tqdm(val_loader, desc=\"Validating\"):\n",
        "                # Get batch data\n",
        "                input_values = batch['input_values'].to(device)\n",
        "                attention_mask = batch['attention_mask'].to(device)\n",
        "                labels = batch['labels'].to(device).view(-1, 1)\n",
        "\n",
        "                # Forward pass\n",
        "                outputs = model(input_values, attention_mask)\n",
        "                loss = criterion(outputs, labels)\n",
        "\n",
        "                # Update metrics\n",
        "                val_loss += loss.item()\n",
        "                all_preds.extend(outputs.cpu().numpy())\n",
        "                all_labels.extend(labels.cpu().numpy())\n",
        "\n",
        "        # Calculate validation metrics\n",
        "        avg_val_loss = val_loss / len(val_loader)\n",
        "        val_losses.append(avg_val_loss)\n",
        "\n",
        "        # Calculate Pearson correlation\n",
        "        all_preds = np.array(all_preds).flatten()\n",
        "        all_labels = np.array(all_labels).flatten()\n",
        "        val_corr, _ = pearsonr(all_preds, all_labels)\n",
        "        val_correlations.append(val_corr)\n",
        "\n",
        "        # Print epoch results\n",
        "        print(f\"Epoch {epoch+1}/{CONFIG['epochs']}, Train Loss: {avg_train_loss:.4f}, \"\n",
        "              f\"Val Loss: {avg_val_loss:.4f}, Val Pearson: {val_corr:.4f}\")\n",
        "\n",
        "        # Save best model\n",
        "        if val_corr > best_val_corr:\n",
        "            best_val_corr = val_corr\n",
        "            torch.save(model.state_dict(), model_path)\n",
        "            print(f\"✓ Saved best model with validation correlation: {val_corr:.4f}\")\n",
        "\n",
        "        # Clear GPU memory\n",
        "        torch.cuda.empty_cache()\n",
        "        gc.collect()\n",
        "\n",
        "    # Plot training curves\n",
        "    plt.figure(figsize=(15, 5))\n",
        "    plt.subplot(1, 2, 1)\n",
        "    plt.plot(range(1, len(train_losses) + 1), train_losses, 'b-', label='Train Loss')\n",
        "    plt.plot(range(1, len(val_losses) + 1), val_losses, 'r-', label='Val Loss')\n",
        "    plt.title(f'Fold {fold+1} - Loss Curves')\n",
        "    plt.xlabel('Epoch')\n",
        "    plt.ylabel('Loss')\n",
        "    plt.legend()\n",
        "    plt.grid(True, alpha=0.3)\n",
        "\n",
        "    plt.subplot(1, 2, 2)\n",
        "    plt.plot(range(1, len(val_correlations) + 1), val_correlations, 'g-')\n",
        "    plt.title(f'Fold {fold+1} - Validation Correlation')\n",
        "    plt.xlabel('Epoch')\n",
        "    plt.ylabel('Pearson r')\n",
        "    plt.grid(True, alpha=0.3)\n",
        "\n",
        "    plt.tight_layout()\n",
        "    plt.savefig(os.path.join(CONFIG[\"output_dir\"], f'fold_{fold+1}_curves.png'))\n",
        "    plt.close()\n",
        "\n",
        "    return best_val_corr"
      ],
      "metadata": {
        "id": "LWFxvw2OJZ4S"
      },
      "execution_count": null,
      "outputs": []
    },
    {
      "cell_type": "markdown",
      "source": [
        "\n",
        "# 6. Ensemble Prediction Function"
      ],
      "metadata": {
        "id": "LM8c1zUSJbyK"
      }
    },
    {
      "cell_type": "code",
      "source": [
        "def generate_ensemble_predictions(model_paths, test_loader, device):\n",
        "    \"\"\"Generate predictions using ensemble of models\"\"\"\n",
        "    # Load models\n",
        "    models = []\n",
        "    for path in model_paths:\n",
        "        if os.path.exists(path):\n",
        "            model = GrammarScoreModel().to(device)\n",
        "            model.load_state_dict(torch.load(path))\n",
        "            model.eval()\n",
        "            models.append(model)\n",
        "\n",
        "    if not models:\n",
        "        raise ValueError(\"No models found for ensemble prediction\")\n",
        "\n",
        "    # Initialize predictions\n",
        "    all_predictions = []\n",
        "    all_filenames = []\n",
        "\n",
        "    # Generate predictions\n",
        "    with torch.no_grad():\n",
        "        for batch in tqdm(test_loader, desc=\"Generating predictions\"):\n",
        "            # Get batch data\n",
        "            input_values = batch['input_values'].to(device)\n",
        "            attention_mask = batch['attention_mask'].to(device)\n",
        "            filenames = batch['filenames']\n",
        "\n",
        "            # Initialize batch predictions\n",
        "            batch_preds = []\n",
        "\n",
        "            # Get predictions from each model\n",
        "            for model in models:\n",
        "                outputs = model(input_values, attention_mask)\n",
        "                batch_preds.append(outputs.cpu().numpy())\n",
        "\n",
        "            # Average predictions across models\n",
        "            batch_preds = np.array(batch_preds)  # [n_models, batch_size, 1]\n",
        "            avg_preds = np.mean(batch_preds, axis=0)\n",
        "\n",
        "            # Add to results\n",
        "            all_predictions.extend(avg_preds)\n",
        "            all_filenames.extend(filenames)\n",
        "\n",
        "    # Create submission DataFrame\n",
        "    submission = pd.DataFrame({\n",
        "        'filename': all_filenames,\n",
        "        'label': np.array(all_predictions).flatten()\n",
        "    })\n",
        "\n",
        "    return submission"
      ],
      "metadata": {
        "id": "P7gzUCi8JefA"
      },
      "execution_count": null,
      "outputs": []
    },
    {
      "cell_type": "markdown",
      "source": [
        "# 7. Main Execution"
      ],
      "metadata": {
        "id": "7qrznaGRJiIv"
      }
    },
    {
      "cell_type": "code",
      "execution_count": 2,
      "metadata": {
        "colab": {
          "base_uri": "https://localhost:8080/",
          "height": 1000,
          "referenced_widgets": [
            "edda7c6485a845a9ac48d3f7b35433d6",
            "4d284e72f19d4469b3a10ccd106afa59",
            "d2a1f5d5402c4b1bb7f2691316b8e87b",
            "0ade2cf9cd814a79b0f850be9f04187e",
            "ed40b614b38449c5bc8a7d54d319bcb1",
            "695e88fad81d4a108cc3e626bce6282b",
            "3726263495f445a5be58a258a4fd5579",
            "b8f76074bf034a7a8ec71aed4b695165",
            "e4bd93d1ff6443089b176e851f1e2063",
            "e71f9bd8be9e4f8da5e8a7a602e11c94",
            "86c6116b61a645deaa11bfaab8594d4e",
            "57409135148a40a6b4a49eceb8a39747",
            "c371836573d84f6b9e026509a35e11f4",
            "707a13866e604fe3aef1dd879965ee86",
            "49a55b5a1191435ab7932ba170d31b64",
            "9632bf843177415ea74714dce5971d9c",
            "54e0b96fa4a747a3bf2152fa8f5f2e2e",
            "802136144538438cbb2b806a4c37210c",
            "2ed5da9d69d441b7b3b131622f2a3855",
            "94369ebde9044f128c72b8feca3a4d14",
            "43622b70f0944937971854be17ab5083",
            "1b82377ba8824c66a41c27d15c69b5c6",
            "a553f77b0dcf448280cd3cc8aea03225",
            "79f0013b69f94a5ebaf3fcced78c3cab",
            "d7a74ac4f762459eb1d6c4d9ab1fac0f",
            "2844e24b4bc7441387a62256fd6275a8",
            "c1415acf670842559394510bea2d4564",
            "817a3183a4a04afea65bbad92766cd0a",
            "1ae87f30bf6043e3bdbdda2ec8b7d603",
            "eb91044ccaba4d679825f6d636fdbf8e",
            "b7af238bc73a4a908cfc627adc6b470b",
            "a3711c5af72349a2b47a38626660abc4",
            "7f7e78d6381649c0bb13e8f24833acd5",
            "d32a5859b1814d14b05c3880ec7b6029",
            "8a11bc917ddf42b58a39c1cd84a152ea",
            "d1414d52d9aa42e689a887b1ee53ab2d",
            "dacbe5d1c9c941abae521c6a5951607b",
            "6248448bfd404abc95787cee1c4d63f1",
            "81b422c6bef4437db4b96853b92f52f9",
            "508feb24235a4f5db7fa72eef4f152c0",
            "120aced66fee4050bc191e0caa0db4ad",
            "88d7ae0d068540588a5e8b78377664a7",
            "0fd30ff172394d23a54249c48311b34d",
            "a62e6e7f39904516a71b1dc45d02b5e0"
          ]
        },
        "id": "0d6ZBSIyoh47",
        "outputId": "2eb963c3-2320-4d0a-cb55-d355f70e2820"
      },
      "outputs": [
        {
          "output_type": "stream",
          "name": "stdout",
          "text": [
            "Mounted at /content/drive\n",
            "Using device: cuda\n",
            "Starting Grammar Score Prediction...\n",
            "Loading data...\n",
            "Training data shape: (444, 2)\n",
            "Test data shape: (195, 1)\n",
            "\n",
            "Training label distribution:\n",
            "count    444.000000\n",
            "mean       3.617117\n",
            "std        1.114151\n",
            "min        1.000000\n",
            "25%        2.500000\n",
            "50%        3.500000\n",
            "75%        4.500000\n",
            "max        5.000000\n",
            "Name: label, dtype: float64\n",
            "\n",
            "Initializing feature extractor...\n"
          ]
        },
        {
          "output_type": "display_data",
          "data": {
            "text/plain": [
              "preprocessor_config.json:   0%|          | 0.00/215 [00:00<?, ?B/s]"
            ],
            "application/vnd.jupyter.widget-view+json": {
              "version_major": 2,
              "version_minor": 0,
              "model_id": "edda7c6485a845a9ac48d3f7b35433d6"
            }
          },
          "metadata": {}
        },
        {
          "output_type": "stream",
          "name": "stdout",
          "text": [
            "\n",
            "==================================================\n",
            "Training Fold 1\n",
            "==================================================\n",
            "Dataset initialized with 296 samples. Augmentation: True\n",
            "Dataset initialized with 148 samples. Augmentation: False\n"
          ]
        },
        {
          "output_type": "display_data",
          "data": {
            "text/plain": [
              "config.json:   0%|          | 0.00/2.24k [00:00<?, ?B/s]"
            ],
            "application/vnd.jupyter.widget-view+json": {
              "version_major": 2,
              "version_minor": 0,
              "model_id": "57409135148a40a6b4a49eceb8a39747"
            }
          },
          "metadata": {}
        },
        {
          "output_type": "display_data",
          "data": {
            "text/plain": [
              "pytorch_model.bin:   0%|          | 0.00/378M [00:00<?, ?B/s]"
            ],
            "application/vnd.jupyter.widget-view+json": {
              "version_major": 2,
              "version_minor": 0,
              "model_id": "a553f77b0dcf448280cd3cc8aea03225"
            }
          },
          "metadata": {}
        },
        {
          "output_type": "stream",
          "name": "stdout",
          "text": [
            "Model has 94,595,313 total parameters, with 21,478,589 trainable\n"
          ]
        },
        {
          "output_type": "stream",
          "name": "stderr",
          "text": [
            "\rEpoch 1/10 [Train]:   0%|          | 0/148 [00:00<?, ?it/s]"
          ]
        },
        {
          "output_type": "display_data",
          "data": {
            "text/plain": [
              "model.safetensors:   0%|          | 0.00/378M [00:00<?, ?B/s]"
            ],
            "application/vnd.jupyter.widget-view+json": {
              "version_major": 2,
              "version_minor": 0,
              "model_id": "d32a5859b1814d14b05c3880ec7b6029"
            }
          },
          "metadata": {}
        },
        {
          "output_type": "stream",
          "name": "stderr",
          "text": [
            "Epoch 1/10 [Train]: 100%|██████████| 148/148 [03:58<00:00,  1.61s/it, loss=0.37]\n",
            "Validating: 100%|██████████| 74/74 [01:50<00:00,  1.49s/it]\n"
          ]
        },
        {
          "output_type": "stream",
          "name": "stdout",
          "text": [
            "Epoch 1/10, Train Loss: 1.3287, Val Loss: 1.3120, Val Pearson: 0.1807\n",
            "✓ Saved best model with validation correlation: 0.1807\n"
          ]
        },
        {
          "output_type": "stream",
          "name": "stderr",
          "text": [
            "Epoch 2/10 [Train]: 100%|██████████| 148/148 [00:44<00:00,  3.35it/s, loss=1.48]\n",
            "Validating: 100%|██████████| 74/74 [00:16<00:00,  4.61it/s]\n"
          ]
        },
        {
          "output_type": "stream",
          "name": "stdout",
          "text": [
            "Epoch 2/10, Train Loss: 1.0461, Val Loss: 1.1231, Val Pearson: 0.5069\n",
            "✓ Saved best model with validation correlation: 0.5069\n"
          ]
        },
        {
          "output_type": "stream",
          "name": "stderr",
          "text": [
            "Epoch 3/10 [Train]: 100%|██████████| 148/148 [00:44<00:00,  3.36it/s, loss=2.93]\n",
            "Validating: 100%|██████████| 74/74 [00:16<00:00,  4.57it/s]\n"
          ]
        },
        {
          "output_type": "stream",
          "name": "stdout",
          "text": [
            "Epoch 3/10, Train Loss: 0.8860, Val Loss: 0.8572, Val Pearson: 0.6401\n",
            "✓ Saved best model with validation correlation: 0.6401\n"
          ]
        },
        {
          "output_type": "stream",
          "name": "stderr",
          "text": [
            "Epoch 4/10 [Train]: 100%|██████████| 148/148 [00:43<00:00,  3.38it/s, loss=0.358]\n",
            "Validating: 100%|██████████| 74/74 [00:16<00:00,  4.61it/s]\n"
          ]
        },
        {
          "output_type": "stream",
          "name": "stdout",
          "text": [
            "Epoch 4/10, Train Loss: 0.7306, Val Loss: 0.7644, Val Pearson: 0.6619\n",
            "✓ Saved best model with validation correlation: 0.6619\n"
          ]
        },
        {
          "output_type": "stream",
          "name": "stderr",
          "text": [
            "Epoch 5/10 [Train]: 100%|██████████| 148/148 [00:43<00:00,  3.38it/s, loss=0.205]\n",
            "Validating: 100%|██████████| 74/74 [00:15<00:00,  4.64it/s]\n"
          ]
        },
        {
          "output_type": "stream",
          "name": "stdout",
          "text": [
            "Epoch 5/10, Train Loss: 0.7249, Val Loss: 0.7081, Val Pearson: 0.6895\n",
            "✓ Saved best model with validation correlation: 0.6895\n"
          ]
        },
        {
          "output_type": "stream",
          "name": "stderr",
          "text": [
            "Epoch 6/10 [Train]: 100%|██████████| 148/148 [00:43<00:00,  3.42it/s, loss=1.19]\n",
            "Validating: 100%|██████████| 74/74 [00:16<00:00,  4.55it/s]\n"
          ]
        },
        {
          "output_type": "stream",
          "name": "stdout",
          "text": [
            "Epoch 6/10, Train Loss: 0.6541, Val Loss: 0.6905, Val Pearson: 0.6995\n",
            "✓ Saved best model with validation correlation: 0.6995\n"
          ]
        },
        {
          "output_type": "stream",
          "name": "stderr",
          "text": [
            "Epoch 7/10 [Train]: 100%|██████████| 148/148 [00:43<00:00,  3.40it/s, loss=0.0963]\n",
            "Validating: 100%|██████████| 74/74 [00:15<00:00,  4.63it/s]\n"
          ]
        },
        {
          "output_type": "stream",
          "name": "stdout",
          "text": [
            "Epoch 7/10, Train Loss: 0.6052, Val Loss: 0.6762, Val Pearson: 0.7054\n",
            "✓ Saved best model with validation correlation: 0.7054\n"
          ]
        },
        {
          "output_type": "stream",
          "name": "stderr",
          "text": [
            "Epoch 8/10 [Train]: 100%|██████████| 148/148 [00:43<00:00,  3.37it/s, loss=1.84]\n",
            "Validating: 100%|██████████| 74/74 [00:15<00:00,  4.65it/s]\n"
          ]
        },
        {
          "output_type": "stream",
          "name": "stdout",
          "text": [
            "Epoch 8/10, Train Loss: 0.6319, Val Loss: 0.6699, Val Pearson: 0.7087\n",
            "✓ Saved best model with validation correlation: 0.7087\n"
          ]
        },
        {
          "output_type": "stream",
          "name": "stderr",
          "text": [
            "Epoch 9/10 [Train]: 100%|██████████| 148/148 [00:43<00:00,  3.40it/s, loss=0.573]\n",
            "Validating: 100%|██████████| 74/74 [00:16<00:00,  4.52it/s]\n"
          ]
        },
        {
          "output_type": "stream",
          "name": "stdout",
          "text": [
            "Epoch 9/10, Train Loss: 0.6294, Val Loss: 0.6700, Val Pearson: 0.7092\n",
            "✓ Saved best model with validation correlation: 0.7092\n"
          ]
        },
        {
          "output_type": "stream",
          "name": "stderr",
          "text": [
            "Epoch 10/10 [Train]: 100%|██████████| 148/148 [00:43<00:00,  3.40it/s, loss=0.108]\n",
            "Validating: 100%|██████████| 74/74 [00:15<00:00,  4.65it/s]\n"
          ]
        },
        {
          "output_type": "stream",
          "name": "stdout",
          "text": [
            "Epoch 10/10, Train Loss: 0.5928, Val Loss: 0.6671, Val Pearson: 0.7103\n",
            "✓ Saved best model with validation correlation: 0.7103\n",
            "\n",
            "==================================================\n",
            "Training Fold 2\n",
            "==================================================\n",
            "Dataset initialized with 296 samples. Augmentation: True\n",
            "Dataset initialized with 148 samples. Augmentation: False\n",
            "Model has 94,595,313 total parameters, with 21,478,589 trainable\n"
          ]
        },
        {
          "output_type": "stream",
          "name": "stderr",
          "text": [
            "Epoch 1/10 [Train]: 100%|██████████| 148/148 [00:43<00:00,  3.41it/s, loss=1.44]\n",
            "Validating: 100%|██████████| 74/74 [00:16<00:00,  4.58it/s]\n"
          ]
        },
        {
          "output_type": "stream",
          "name": "stdout",
          "text": [
            "Epoch 1/10, Train Loss: 1.4656, Val Loss: 1.0639, Val Pearson: 0.4124\n",
            "✓ Saved best model with validation correlation: 0.4124\n"
          ]
        },
        {
          "output_type": "stream",
          "name": "stderr",
          "text": [
            "Epoch 2/10 [Train]: 100%|██████████| 148/148 [00:43<00:00,  3.39it/s, loss=1.94]\n",
            "Validating: 100%|██████████| 74/74 [00:16<00:00,  4.58it/s]\n"
          ]
        },
        {
          "output_type": "stream",
          "name": "stdout",
          "text": [
            "Epoch 2/10, Train Loss: 1.2099, Val Loss: 0.8526, Val Pearson: 0.5633\n",
            "✓ Saved best model with validation correlation: 0.5633\n"
          ]
        },
        {
          "output_type": "stream",
          "name": "stderr",
          "text": [
            "Epoch 3/10 [Train]: 100%|██████████| 148/148 [00:43<00:00,  3.38it/s, loss=1.1]\n",
            "Validating: 100%|██████████| 74/74 [00:16<00:00,  4.55it/s]\n"
          ]
        },
        {
          "output_type": "stream",
          "name": "stdout",
          "text": [
            "Epoch 3/10, Train Loss: 0.9748, Val Loss: 0.7317, Val Pearson: 0.6417\n",
            "✓ Saved best model with validation correlation: 0.6417\n"
          ]
        },
        {
          "output_type": "stream",
          "name": "stderr",
          "text": [
            "Epoch 4/10 [Train]: 100%|██████████| 148/148 [00:43<00:00,  3.43it/s, loss=0.135]\n",
            "Validating: 100%|██████████| 74/74 [00:16<00:00,  4.51it/s]\n"
          ]
        },
        {
          "output_type": "stream",
          "name": "stdout",
          "text": [
            "Epoch 4/10, Train Loss: 0.8344, Val Loss: 0.6525, Val Pearson: 0.6598\n",
            "✓ Saved best model with validation correlation: 0.6598\n"
          ]
        },
        {
          "output_type": "stream",
          "name": "stderr",
          "text": [
            "Epoch 5/10 [Train]: 100%|██████████| 148/148 [00:43<00:00,  3.42it/s, loss=0.252]\n",
            "Validating: 100%|██████████| 74/74 [00:16<00:00,  4.52it/s]\n"
          ]
        },
        {
          "output_type": "stream",
          "name": "stdout",
          "text": [
            "Epoch 5/10, Train Loss: 0.8042, Val Loss: 0.6740, Val Pearson: 0.6792\n",
            "✓ Saved best model with validation correlation: 0.6792\n"
          ]
        },
        {
          "output_type": "stream",
          "name": "stderr",
          "text": [
            "Epoch 6/10 [Train]: 100%|██████████| 148/148 [00:44<00:00,  3.35it/s, loss=0.117]\n",
            "Validating: 100%|██████████| 74/74 [00:16<00:00,  4.55it/s]\n"
          ]
        },
        {
          "output_type": "stream",
          "name": "stdout",
          "text": [
            "Epoch 6/10, Train Loss: 0.7951, Val Loss: 0.6262, Val Pearson: 0.6902\n",
            "✓ Saved best model with validation correlation: 0.6902\n"
          ]
        },
        {
          "output_type": "stream",
          "name": "stderr",
          "text": [
            "Epoch 7/10 [Train]: 100%|██████████| 148/148 [00:43<00:00,  3.42it/s, loss=0.266]\n",
            "Validating: 100%|██████████| 74/74 [00:16<00:00,  4.47it/s]\n"
          ]
        },
        {
          "output_type": "stream",
          "name": "stdout",
          "text": [
            "Epoch 7/10, Train Loss: 0.6574, Val Loss: 0.6409, Val Pearson: 0.6944\n",
            "✓ Saved best model with validation correlation: 0.6944\n"
          ]
        },
        {
          "output_type": "stream",
          "name": "stderr",
          "text": [
            "Epoch 8/10 [Train]: 100%|██████████| 148/148 [00:43<00:00,  3.40it/s, loss=1.34]\n",
            "Validating: 100%|██████████| 74/74 [00:16<00:00,  4.56it/s]\n"
          ]
        },
        {
          "output_type": "stream",
          "name": "stdout",
          "text": [
            "Epoch 8/10, Train Loss: 0.7101, Val Loss: 0.6598, Val Pearson: 0.6992\n",
            "✓ Saved best model with validation correlation: 0.6992\n"
          ]
        },
        {
          "output_type": "stream",
          "name": "stderr",
          "text": [
            "Epoch 9/10 [Train]: 100%|██████████| 148/148 [00:43<00:00,  3.37it/s, loss=0.34]\n",
            "Validating: 100%|██████████| 74/74 [00:16<00:00,  4.54it/s]\n"
          ]
        },
        {
          "output_type": "stream",
          "name": "stdout",
          "text": [
            "Epoch 9/10, Train Loss: 0.6795, Val Loss: 0.6563, Val Pearson: 0.6973\n"
          ]
        },
        {
          "output_type": "stream",
          "name": "stderr",
          "text": [
            "Epoch 10/10 [Train]: 100%|██████████| 148/148 [00:42<00:00,  3.45it/s, loss=2.26]\n",
            "Validating: 100%|██████████| 74/74 [00:16<00:00,  4.48it/s]\n"
          ]
        },
        {
          "output_type": "stream",
          "name": "stdout",
          "text": [
            "Epoch 10/10, Train Loss: 0.7255, Val Loss: 0.6462, Val Pearson: 0.6985\n",
            "\n",
            "==================================================\n",
            "Training Fold 3\n",
            "==================================================\n",
            "Dataset initialized with 296 samples. Augmentation: True\n",
            "Dataset initialized with 148 samples. Augmentation: False\n",
            "Model has 94,595,313 total parameters, with 21,478,589 trainable\n"
          ]
        },
        {
          "output_type": "stream",
          "name": "stderr",
          "text": [
            "Epoch 1/10 [Train]: 100%|██████████| 148/148 [00:42<00:00,  3.46it/s, loss=1.26]\n",
            "Validating: 100%|██████████| 74/74 [00:16<00:00,  4.53it/s]\n"
          ]
        },
        {
          "output_type": "stream",
          "name": "stdout",
          "text": [
            "Epoch 1/10, Train Loss: 1.3222, Val Loss: 1.1353, Val Pearson: 0.4693\n",
            "✓ Saved best model with validation correlation: 0.4693\n"
          ]
        },
        {
          "output_type": "stream",
          "name": "stderr",
          "text": [
            "Epoch 2/10 [Train]: 100%|██████████| 148/148 [00:43<00:00,  3.41it/s, loss=1.7]\n",
            "Validating: 100%|██████████| 74/74 [00:16<00:00,  4.51it/s]\n"
          ]
        },
        {
          "output_type": "stream",
          "name": "stdout",
          "text": [
            "Epoch 2/10, Train Loss: 1.0708, Val Loss: 0.9362, Val Pearson: 0.6348\n",
            "✓ Saved best model with validation correlation: 0.6348\n"
          ]
        },
        {
          "output_type": "stream",
          "name": "stderr",
          "text": [
            "Epoch 3/10 [Train]: 100%|██████████| 148/148 [00:43<00:00,  3.42it/s, loss=0.16]\n",
            "Validating: 100%|██████████| 74/74 [00:16<00:00,  4.48it/s]\n"
          ]
        },
        {
          "output_type": "stream",
          "name": "stdout",
          "text": [
            "Epoch 3/10, Train Loss: 0.8752, Val Loss: 0.7758, Val Pearson: 0.6853\n",
            "✓ Saved best model with validation correlation: 0.6853\n"
          ]
        },
        {
          "output_type": "stream",
          "name": "stderr",
          "text": [
            "Epoch 4/10 [Train]: 100%|██████████| 148/148 [00:43<00:00,  3.40it/s, loss=1.45]\n",
            "Validating: 100%|██████████| 74/74 [00:16<00:00,  4.51it/s]\n"
          ]
        },
        {
          "output_type": "stream",
          "name": "stdout",
          "text": [
            "Epoch 4/10, Train Loss: 0.8010, Val Loss: 0.6265, Val Pearson: 0.7138\n",
            "✓ Saved best model with validation correlation: 0.7138\n"
          ]
        },
        {
          "output_type": "stream",
          "name": "stderr",
          "text": [
            "Epoch 5/10 [Train]: 100%|██████████| 148/148 [00:42<00:00,  3.45it/s, loss=3.27]\n",
            "Validating: 100%|██████████| 74/74 [00:16<00:00,  4.42it/s]\n"
          ]
        },
        {
          "output_type": "stream",
          "name": "stdout",
          "text": [
            "Epoch 5/10, Train Loss: 0.8712, Val Loss: 0.5980, Val Pearson: 0.7359\n",
            "✓ Saved best model with validation correlation: 0.7359\n"
          ]
        },
        {
          "output_type": "stream",
          "name": "stderr",
          "text": [
            "Epoch 6/10 [Train]: 100%|██████████| 148/148 [00:43<00:00,  3.40it/s, loss=0.00215]\n",
            "Validating: 100%|██████████| 74/74 [00:16<00:00,  4.52it/s]\n"
          ]
        },
        {
          "output_type": "stream",
          "name": "stdout",
          "text": [
            "Epoch 6/10, Train Loss: 0.7146, Val Loss: 0.5667, Val Pearson: 0.7478\n",
            "✓ Saved best model with validation correlation: 0.7478\n"
          ]
        },
        {
          "output_type": "stream",
          "name": "stderr",
          "text": [
            "Epoch 7/10 [Train]: 100%|██████████| 148/148 [00:43<00:00,  3.40it/s, loss=1.79]\n",
            "Validating: 100%|██████████| 74/74 [00:16<00:00,  4.49it/s]\n"
          ]
        },
        {
          "output_type": "stream",
          "name": "stdout",
          "text": [
            "Epoch 7/10, Train Loss: 0.6634, Val Loss: 0.5257, Val Pearson: 0.7619\n",
            "✓ Saved best model with validation correlation: 0.7619\n"
          ]
        },
        {
          "output_type": "stream",
          "name": "stderr",
          "text": [
            "Epoch 8/10 [Train]: 100%|██████████| 148/148 [00:43<00:00,  3.44it/s, loss=1.87]\n",
            "Validating: 100%|██████████| 74/74 [00:16<00:00,  4.42it/s]\n"
          ]
        },
        {
          "output_type": "stream",
          "name": "stdout",
          "text": [
            "Epoch 8/10, Train Loss: 0.6608, Val Loss: 0.5284, Val Pearson: 0.7627\n",
            "✓ Saved best model with validation correlation: 0.7627\n"
          ]
        },
        {
          "output_type": "stream",
          "name": "stderr",
          "text": [
            "Epoch 9/10 [Train]: 100%|██████████| 148/148 [00:43<00:00,  3.41it/s, loss=0.423]\n",
            "Validating: 100%|██████████| 74/74 [00:16<00:00,  4.49it/s]\n"
          ]
        },
        {
          "output_type": "stream",
          "name": "stdout",
          "text": [
            "Epoch 9/10, Train Loss: 0.7514, Val Loss: 0.5213, Val Pearson: 0.7668\n",
            "✓ Saved best model with validation correlation: 0.7668\n"
          ]
        },
        {
          "output_type": "stream",
          "name": "stderr",
          "text": [
            "Epoch 10/10 [Train]: 100%|██████████| 148/148 [00:43<00:00,  3.39it/s, loss=0.0532]\n",
            "Validating: 100%|██████████| 74/74 [00:16<00:00,  4.49it/s]\n"
          ]
        },
        {
          "output_type": "stream",
          "name": "stdout",
          "text": [
            "Epoch 10/10, Train Loss: 0.6761, Val Loss: 0.5222, Val Pearson: 0.7644\n",
            "\n",
            "Cross-validation results:\n",
            "Fold 1: 0.7103\n",
            "Fold 2: 0.6992\n",
            "Fold 3: 0.7668\n",
            "Mean validation correlation: 0.7255\n",
            "Dataset initialized with 195 samples. Augmentation: False\n",
            "\n",
            "Generating ensemble predictions...\n"
          ]
        },
        {
          "output_type": "stream",
          "name": "stderr",
          "text": [
            "Generating predictions: 100%|██████████| 98/98 [03:01<00:00,  1.85s/it]\n"
          ]
        },
        {
          "output_type": "stream",
          "name": "stdout",
          "text": [
            "\n",
            "Submission saved to /content/drive/MyDrive/dataset/output/submission.csv\n",
            "\n",
            "Prediction statistics:\n",
            "count    195.000000\n",
            "mean       3.577443\n",
            "std        0.809760\n",
            "min        2.382479\n",
            "25%        2.825603\n",
            "50%        3.370092\n",
            "75%        4.371732\n",
            "max        4.930118\n",
            "Name: label, dtype: float64\n",
            "\n",
            "Done!\n"
          ]
        }
      ],
      "source": [
        "def main():\n",
        "    # Start the process\n",
        "    print(\"Starting Grammar Score Prediction...\")\n",
        "\n",
        "    # Load data\n",
        "    print(\"Loading data...\")\n",
        "    train_df = pd.read_csv(CONFIG[\"train_csv\"])\n",
        "    test_df = pd.read_csv(CONFIG[\"test_csv\"])\n",
        "\n",
        "    print(f\"Training data shape: {train_df.shape}\")\n",
        "    print(f\"Test data shape: {test_df.shape}\")\n",
        "\n",
        "    # Print label statistics\n",
        "    print(\"\\nTraining label distribution:\")\n",
        "    print(train_df['label'].describe())\n",
        "\n",
        "    # Initialize feature extractor\n",
        "    print(\"\\nInitializing feature extractor...\")\n",
        "    feature_extractor = AutoFeatureExtractor.from_pretrained(CONFIG[\"base_model\"])\n",
        "\n",
        "    # Set up K-fold\n",
        "    kf = KFold(n_splits=CONFIG[\"n_folds\"], shuffle=True, random_state=SEED)\n",
        "\n",
        "    # Train models for each fold\n",
        "    fold_scores = []\n",
        "\n",
        "    # Process each fold\n",
        "    for fold, (train_idx, val_idx) in enumerate(kf.split(train_df)):\n",
        "        # Split data\n",
        "        fold_train = train_df.iloc[train_idx].reset_index(drop=True)\n",
        "        fold_val = train_df.iloc[val_idx].reset_index(drop=True)\n",
        "\n",
        "        # Train fold\n",
        "        fold_score = train_fold(\n",
        "            fold,\n",
        "            fold_train,\n",
        "            fold_val,\n",
        "            feature_extractor,\n",
        "            CONFIG[\"model_save_paths\"][fold],\n",
        "            device\n",
        "        )\n",
        "\n",
        "        fold_scores.append(fold_score)\n",
        "\n",
        "    # Print fold results\n",
        "    print(\"\\nCross-validation results:\")\n",
        "    for i, score in enumerate(fold_scores):\n",
        "        print(f\"Fold {i+1}: {score:.4f}\")\n",
        "    print(f\"Mean validation correlation: {np.mean(fold_scores):.4f}\")\n",
        "\n",
        "    # Create test dataset\n",
        "    test_dataset = AudioDataset(\n",
        "        test_df,\n",
        "        CONFIG[\"test_audio_dir\"],\n",
        "        feature_extractor,\n",
        "        is_test=True\n",
        "    )\n",
        "\n",
        "    # Create test dataloader\n",
        "    test_loader = DataLoader(\n",
        "        test_dataset,\n",
        "        batch_size=CONFIG[\"batch_size\"],\n",
        "        shuffle=False,\n",
        "        collate_fn=collate_fn,\n",
        "        num_workers=0\n",
        "    )\n",
        "\n",
        "    # Generate ensemble predictions\n",
        "    print(\"\\nGenerating ensemble predictions...\")\n",
        "    submission = generate_ensemble_predictions(\n",
        "        CONFIG[\"model_save_paths\"][:CONFIG[\"n_folds\"]],\n",
        "        test_loader,\n",
        "        device\n",
        "    )\n",
        "\n",
        "    # Save submission\n",
        "    submission.to_csv(CONFIG[\"submission_path\"], index=False)\n",
        "    print(f\"\\nSubmission saved to {CONFIG['submission_path']}\")\n",
        "\n",
        "    # Print prediction statistics\n",
        "    print(\"\\nPrediction statistics:\")\n",
        "    print(submission['label'].describe())\n",
        "    print(\"\\nDone!\")\n",
        "\n",
        "if __name__ == \"__main__\":\n",
        "    main()"
      ]
    },
    {
      "cell_type": "code",
      "source": [],
      "metadata": {
        "id": "OiTIRBAdwwyJ"
      },
      "execution_count": null,
      "outputs": []
    },
    {
      "cell_type": "markdown",
      "source": [
        "# For a more comprehensice explanation do checkout the following docs"
      ],
      "metadata": {
        "id": "NT7Cf3ThJvkU"
      }
    },
    {
      "cell_type": "markdown",
      "source": [
        "# The above documentation and code is done by Belo Abhigyan\n",
        "## For any clarifications do contact on the following :\n",
        "### Linkedln\n",
        "### Portfolio"
      ],
      "metadata": {
        "id": "Wq0lNQxlJ4mN"
      }
    },
    {
      "cell_type": "code",
      "source": [],
      "metadata": {
        "id": "8AQ4PjlZJ0mf"
      },
      "execution_count": null,
      "outputs": []
    }
  ]
}